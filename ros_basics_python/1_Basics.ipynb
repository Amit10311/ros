{
  "nbformat": 4,
  "nbformat_minor": 0,
  "metadata": {
    "colab": {
      "name": "1_Basics.ipynb",
      "provenance": [],
      "collapsed_sections": []
    },
    "kernelspec": {
      "name": "python3",
      "display_name": "Python 3"
    }
  },
  "cells": [
    {
      "cell_type": "markdown",
      "metadata": {
        "id": "yvXbMXUfj-ul",
        "colab_type": "text"
      },
      "source": [
        "the topic is the channel where nodes are subscribed for to read messages or where the nodes publish those messages. \n",
        "> * The topic can be seen as a tag of certain type of data, and the message is the data itself, previously defined. \n",
        "> * Also, another reason for the difference between topic and message is that you can use two topics that share the same type of messages."
      ]
    },
    {
      "cell_type": "code",
      "metadata": {
        "id": "67-bDU6UkclJ",
        "colab_type": "code",
        "colab": {}
      },
      "source": [
        "# For Example:\n",
        "\n",
        "Topics: Front_Laser_data, Rear_Laser_data\n",
        "\n",
        "Message: int readings[]"
      ],
      "execution_count": null,
      "outputs": []
    },
    {
      "cell_type": "markdown",
      "metadata": {
        "id": "dCz6fGJvVXWm",
        "colab_type": "text"
      },
      "source": [
        "# Unit 1: Basic Concepts\n",
        "\n",
        "What will you learn with this unit?\n",
        "\n",
        "1. How to structure and launch ROS programs (packages and launch files)\n",
        "2. How to create basic ROS programs (Python based)\n",
        "3. Basic ROS concepts:\n",
        "> 1. Nodes, \n",
        " 2. Parameter Server \n",
        " 3. Environment Variables,\n",
        " 4. Roscore"
      ]
    },
    {
      "cell_type": "markdown",
      "metadata": {
        "id": "Tlci9PYOXKf5",
        "colab_type": "text"
      },
      "source": [
        "## **1. Packages**\n",
        " ROS program contains; \n",
        " 1.  src folder: all its cpp files, python files,\n",
        " 2. configuration files, \n",
        " 3. compilation files:   CMakeLists\n",
        " 4. launch files, and \n",
        " 5. parameters files.\n",
        "\n",
        "All those files in the package are organized with the following structure:\n",
        "\n",
        "> 1. launch folder: Contains launch files\n",
        "2. src folder: Source files (cpp, python)\n",
        "3. CMakeLists.txt: List of cmake rules for compilation\n",
        "4. package.xml: Package information and dependencies"
      ]
    },
    {
      "cell_type": "code",
      "metadata": {
        "id": "K7nYUVcRW09C",
        "colab_type": "code",
        "colab": {}
      },
      "source": [
        "cat keyboard_teleop.launch"
      ],
      "execution_count": null,
      "outputs": []
    },
    {
      "cell_type": "code",
      "metadata": {
        "id": "47qIQZrWYAzL",
        "colab_type": "code",
        "colab": {}
      },
      "source": [
        "<launch>\n",
        "  <!-- turtlebot_teleop_key already has its own built in velocity smoother -->\n",
        "  <node pkg=\"turtlebot_teleop\" type=\"turtlebot_teleop_key.py\" name=\"turtlebot_teleop_keyboard\"  output=\"screen\">\n",
        "    <param name=\"scale_linear\" value=\"0.5\" type=\"double\"/>\n",
        "    <param name=\"scale_angular\" value=\"1.5\" type=\"double\"/>\n",
        "    <remap from=\"turtlebot_teleop_keyboard/cmd_vel\" to=\"/cmd_vel\"/>   <!-- cmd_vel_mux/input/teleop\"/-->\n",
        "  </node>\n",
        "</launch>"
      ],
      "execution_count": null,
      "outputs": []
    },
    {
      "cell_type": "markdown",
      "metadata": {
        "id": "lNOiEzPpZEVv",
        "colab_type": "text"
      },
      "source": [
        "1. **pkg=\"package_name\"** # Name of the package that contains the code of the ROS program to execute\n",
        "\n",
        "2. **type=\"python_file_name.py\"** # Name of the program file that we want to execute\n",
        "\n",
        "3. **name=\"node_name\"** # Name of the ROS node that will launch our Python file\n",
        "\n",
        "4. **output=\"type_of_output\"** # Through which channel you will print the output of the Python file"
      ]
    },
    {
      "cell_type": "code",
      "metadata": {
        "id": "nlP685wVc1sC",
        "colab_type": "code",
        "colab": {}
      },
      "source": [
        "<node pkg=\"package_name\" type=\"name.py\" name=\"node_name\"  output=\"node_name\">"
      ],
      "execution_count": null,
      "outputs": []
    },
    {
      "cell_type": "markdown",
      "metadata": {
        "id": "bKz1IIu1Z1Rn",
        "colab_type": "text"
      },
      "source": [
        "### **1.1 Create a package**\n"
      ]
    },
    {
      "cell_type": "code",
      "metadata": {
        "id": "43iTaEC7YDHd",
        "colab_type": "code",
        "colab": {}
      },
      "source": [
        "catkin_create_pkg <package_name> <package_dependecies>"
      ],
      "execution_count": null,
      "outputs": []
    },
    {
      "cell_type": "code",
      "metadata": {
        "id": "qUC3T8V9av_C",
        "colab_type": "code",
        "colab": {}
      },
      "source": [
        "catkin_create_pkg my_package rospy"
      ],
      "execution_count": null,
      "outputs": []
    },
    {
      "cell_type": "code",
      "metadata": {
        "id": "SXRyhVbWZ_xy",
        "colab_type": "code",
        "colab": {}
      },
      "source": [
        "rospack list\n",
        "rospack list | grep my_package\n",
        "roscd my_package "
      ],
      "execution_count": null,
      "outputs": []
    },
    {
      "cell_type": "markdown",
      "metadata": {
        "id": "irtyxmXcaxjn",
        "colab_type": "text"
      },
      "source": [
        "## **Example 1.6**\n",
        "\n"
      ]
    },
    {
      "cell_type": "markdown",
      "metadata": {
        "id": "a9UrCpoDcHsy",
        "colab_type": "text"
      },
      "source": [
        "> ### **1. Python Program {1.1a-py}: simple.py**"
      ]
    },
    {
      "cell_type": "code",
      "metadata": {
        "id": "mwz1yDu7b_Rx",
        "colab_type": "code",
        "colab": {}
      },
      "source": [
        "roscd my_package\n",
        "cd src\n",
        "touch simple.py"
      ],
      "execution_count": null,
      "outputs": []
    },
    {
      "cell_type": "code",
      "metadata": {
        "id": "uneG9bovb39Q",
        "colab_type": "code",
        "colab": {}
      },
      "source": [
        "#simple.py\n",
        "#! /usr/bin/env python\n",
        "\n",
        "import rospy\n",
        "\n",
        "rospy.init_node('ObiWan')\n",
        "print \"Help me Obi-Wan Kenobi, you're my only hope\""
      ],
      "execution_count": null,
      "outputs": []
    },
    {
      "cell_type": "code",
      "metadata": {
        "id": "dvV5jTOab0a_",
        "colab_type": "code",
        "colab": {}
      },
      "source": [
        "roscd my_package\n",
        "mkdir launch\n",
        "touch launch/my_package_launch_file.launch"
      ],
      "execution_count": null,
      "outputs": []
    },
    {
      "cell_type": "markdown",
      "metadata": {
        "id": "-JKSo_UgcQZZ",
        "colab_type": "text"
      },
      "source": [
        "### **2. Launch File {1.1-l}: my_package_launch_file.launch**"
      ]
    },
    {
      "cell_type": "code",
      "metadata": {
        "id": "UTuHkKHDcYis",
        "colab_type": "code",
        "colab": {}
      },
      "source": [
        "# my_package_launch_file.launch\n",
        "<launch>\n",
        "    <!-- My Package launch file -->\n",
        "    <node pkg=\"my_package\" type=\"simple.py\" name=\"ObiWan\"  output=\"screen\">\n",
        "    </node>\n",
        "</launch>"
      ],
      "execution_count": null,
      "outputs": []
    },
    {
      "cell_type": "code",
      "metadata": {
        "id": "GfKOmHe4cZPz",
        "colab_type": "code",
        "colab": {}
      },
      "source": [
        "roslaunch my_package my_package_launch_file.launch"
      ],
      "execution_count": null,
      "outputs": []
    },
    {
      "cell_type": "markdown",
      "metadata": {
        "id": "ok93a1oScdwL",
        "colab_type": "text"
      },
      "source": [
        "**Sometimes ROS won't detect a new package when you have just created it**, so you won't be able to do a roslaunch. \n",
        "> In this case, you can force ROS to do a refresh of its package list with the command:"
      ]
    },
    {
      "cell_type": "code",
      "metadata": {
        "id": "_yWFF79Tdg2t",
        "colab_type": "code",
        "colab": {}
      },
      "source": [
        "rospack profile"
      ],
      "execution_count": null,
      "outputs": []
    },
    {
      "cell_type": "markdown",
      "metadata": {
        "id": "8VRBI2sjdz2N",
        "colab_type": "text"
      },
      "source": [
        "### **3. Code Explanation {1.1a-py}: simple.py**\n",
        "\n"
      ]
    },
    {
      "cell_type": "code",
      "metadata": {
        "id": "e8rc-RCldkI4",
        "colab_type": "code",
        "colab": {}
      },
      "source": [
        "#! /usr/bin/env python \n",
        "# This line will ensure the interpreter used is the first one on your environment's $PATH.\n",
        "# Every Python file needs to start with this line at the top.\n",
        "\n",
        "import rospy # Import the rospy, which is a Python library for ROS.\n",
        "\n",
        "rospy.init_node('ObiWan')     # Initiate a node called ObiWan\n",
        "\n",
        "print \"Help me Obi-Wan Kenobi, you're my only hope\" \n",
        "# A simple Python print"
      ],
      "execution_count": null,
      "outputs": []
    },
    {
      "cell_type": "markdown",
      "metadata": {
        "id": "ntBHtUZPeRrq",
        "colab_type": "text"
      },
      "source": [
        "## **2. ROS Nodes**\n"
      ]
    },
    {
      "cell_type": "code",
      "metadata": {
        "id": "BrYdgEM3drJI",
        "colab_type": "code",
        "colab": {}
      },
      "source": [
        "rosnode list"
      ],
      "execution_count": null,
      "outputs": []
    },
    {
      "cell_type": "markdown",
      "metadata": {
        "id": "CVnjiocqfklQ",
        "colab_type": "text"
      },
      "source": [
        "**You can't find it? I know you can't**. \n",
        "> That's because the **node is killed when the Python program ends**.\n",
        "\n",
        "Let's change that."
      ]
    },
    {
      "cell_type": "markdown",
      "metadata": {
        "id": "q9LSLLr9ertc",
        "colab_type": "text"
      },
      "source": [
        "> ### **1. Python Program {1.1b-py}: simple_loop.py**\n",
        "\n"
      ]
    },
    {
      "cell_type": "code",
      "metadata": {
        "id": "qNd8QTiOexyd",
        "colab_type": "code",
        "colab": {}
      },
      "source": [
        "#! /usr/bin/env python\n",
        "\n",
        "import rospy\n",
        "\n",
        "rospy.init_node(\"ObiWan\")          # 1. Initiate a node called ObiWan\n",
        "\n",
        "rate = rospy.Rate(2)               # 2. We create a Rate object of 2Hz\n",
        "\n",
        "while not rospy.is_shutdown():     # 3. Endless loop until Ctrl + C\n",
        "\n",
        "   print \"Help me Obi-Wan Kenobi, you're my only hope\"\n",
        "   rate.sleep()             # We sleep the needed time to maintain the Rate fixed above\n",
        "    \n",
        "# This program creates an endless loop that repeats itself 2 times per second (2Hz)\n",
        "\n",
        "# until somebody presses Ctrl + C in the Shell"
      ],
      "execution_count": null,
      "outputs": []
    },
    {
      "cell_type": "code",
      "metadata": {
        "id": "mZ3ezMDxfsgQ",
        "colab_type": "code",
        "colab": {}
      },
      "source": [
        "chmod +x simple_loop.py"
      ],
      "execution_count": null,
      "outputs": []
    },
    {
      "cell_type": "code",
      "metadata": {
        "id": "YSMNPlzqgi1h",
        "colab_type": "code",
        "colab": {}
      },
      "source": [
        "# my_package_launch_file.launch\n",
        "<launch>\n",
        "    <node pkg=\"my_package\" type=\"simple_loop.py\" name=\"ObiWan\"  output=\"screen\">\n",
        "    </node>\n",
        "</launch>"
      ],
      "execution_count": null,
      "outputs": []
    },
    {
      "cell_type": "code",
      "metadata": {
        "id": "0XpEzog5ggli",
        "colab_type": "code",
        "colab": {}
      },
      "source": [
        "roslaunch my_package my_package_launch_file.launch"
      ],
      "execution_count": null,
      "outputs": []
    },
    {
      "cell_type": "markdown",
      "metadata": {
        "id": "ICkM8mmEhJIX",
        "colab_type": "text"
      },
      "source": [
        "## **3. Compile a package**\n",
        "\n",
        "Sometimes (for example, in large projects) **you will not want to compile all** of your packages, but just the one(s) where you've made changes. \n",
        "> You can do this with the following command:"
      ]
    },
    {
      "cell_type": "code",
      "metadata": {
        "id": "xe6OCnH0hdQD",
        "colab_type": "code",
        "colab": {}
      },
      "source": [
        "catkin_make --only-pkg-with-deps <package_name>"
      ],
      "execution_count": null,
      "outputs": []
    },
    {
      "cell_type": "markdown",
      "metadata": {
        "id": "M06jOK38hgQ8",
        "colab_type": "text"
      },
      "source": [
        "This command will only compile the packages specified and its dependencies."
      ]
    },
    {
      "cell_type": "code",
      "metadata": {
        "id": "BNB9mYpuhgEL",
        "colab_type": "code",
        "colab": {}
      },
      "source": [
        "catkin_make --only-pkg-with-deps my_package"
      ],
      "execution_count": null,
      "outputs": []
    },
    {
      "cell_type": "code",
      "metadata": {
        "id": "ySgHnUNpSOnd",
        "colab_type": "code",
        "colab": {}
      },
      "source": [
        ""
      ],
      "execution_count": null,
      "outputs": []
    },
    {
      "cell_type": "markdown",
      "metadata": {
        "id": "GiWTpYBlh05a",
        "colab_type": "text"
      },
      "source": [
        "## **4. [Parameter Server](http://wiki.ros.org/Parameter%20Server)**\n",
        "\n",
        "A Parameter Server is a **dictionary** that ROS uses to store parameters.\n",
        "> These parameters can be used by nodes at runtime and are **normally used for static data, such as configuration parameters**.\n"
      ]
    },
    {
      "cell_type": "markdown",
      "metadata": {
        "id": "rxbs2SVuh8fB",
        "colab_type": "text"
      },
      "source": [
        "\n",
        "\n",
        "> ### **1. To get a list of these parameters, you can type:**\n",
        "\n"
      ]
    },
    {
      "cell_type": "code",
      "metadata": {
        "id": "Y8bM3Zf8iRvd",
        "colab_type": "code",
        "colab": {}
      },
      "source": [
        "rosparam list"
      ],
      "execution_count": null,
      "outputs": []
    },
    {
      "cell_type": "markdown",
      "metadata": {
        "id": "UDzhBRz_iUnv",
        "colab_type": "text"
      },
      "source": [
        "> ###  **2. To get a value of a particular parameter, you can type**:\n",
        "\n"
      ]
    },
    {
      "cell_type": "code",
      "metadata": {
        "id": "-4wjp14MiiN-",
        "colab_type": "code",
        "colab": {}
      },
      "source": [
        "rosparam get <parameter_name>"
      ],
      "execution_count": null,
      "outputs": []
    },
    {
      "cell_type": "markdown",
      "metadata": {
        "id": "A38_C7Vmj8n5",
        "colab_type": "text"
      },
      "source": [
        "> ### **3. To set a value to a parameter**, \n",
        "\n",
        "you can type:\n",
        "\n"
      ]
    },
    {
      "cell_type": "code",
      "metadata": {
        "id": "DHmb6ijrlzga",
        "colab_type": "code",
        "colab": {}
      },
      "source": [
        "rosparam set <parameter_name> <value>\n",
        "rosparam set <parameter_name> <value>"
      ],
      "execution_count": null,
      "outputs": []
    },
    {
      "cell_type": "code",
      "metadata": {
        "id": "Ggw9KzqOl3d1",
        "colab_type": "code",
        "colab": {}
      },
      "source": [
        "rosparam get /camera/imager_rate\n",
        "rosparam set /camera/imager_rate 4.0\n",
        "rosparam get /camera/imager_rate"
      ],
      "execution_count": null,
      "outputs": []
    },
    {
      "cell_type": "markdown",
      "metadata": {
        "id": "eyJ5eF-vmvrk",
        "colab_type": "text"
      },
      "source": [
        "## **5. Environment Variables**\n",
        "\n",
        "You can check these variables by typing:\n"
      ]
    },
    {
      "cell_type": "code",
      "metadata": {
        "id": "FxsCnTQSm2h_",
        "colab_type": "code",
        "colab": {}
      },
      "source": [
        "export | grep ROS"
      ],
      "execution_count": null,
      "outputs": []
    },
    {
      "cell_type": "markdown",
      "metadata": {
        "id": "MgjQVZL3m-YB",
        "colab_type": "text"
      },
      "source": [
        "* **ROS_MASTER_URI** -> Contains the url where the ROS Core is being executed. \n",
        "> Usually, your own computer (localhost).\n",
        "\n",
        "* **ROS_PACKAGE_PATH** -> Contains the paths in your Hard Drive where ROS has packages in it."
      ]
    },
    {
      "cell_type": "markdown",
      "metadata": {
        "id": "8qoVHA_8nbYz",
        "colab_type": "text"
      },
      "source": [
        "## 6. See details of \n",
        "\n",
        "**1. Parameter Types**\n",
        "\n",
        "The Parameter Server uses XMLRPC data types for parameter values, which include:\n",
        "> * 32-bit integers\n",
        "* booleans\n",
        "* strings\n",
        "* doubles\n",
        "* iso8601 dates\n",
        "* lists\n",
        "* base64-encoded binary data"
      ]
    },
    {
      "cell_type": "markdown",
      "metadata": {
        "id": "Nb6IIL-foty2",
        "colab_type": "text"
      },
      "source": [
        "> ## 2. [Node Tools](http://wiki.ros.org/Nodes)\n",
        "\n",
        "Command-line Remapping Arguments\n",
        "\n"
      ]
    },
    {
      "cell_type": "markdown",
      "metadata": {
        "id": "KrGjpTOIo_Cy",
        "colab_type": "text"
      },
      "source": [
        "* All resource names can be remapped.\n",
        ">  This feature of ROS allows you to defer complex name assignments to the actual runtime loading of the system.\n",
        "\n",
        "* Remapping arguments can be passed to any node and use the syntax name:=new_name.\n",
        "> For example, to configure the talker node to publish to /wg/chatter instead of chatter:> "
      ]
    },
    {
      "cell_type": "code",
      "metadata": {
        "id": "fKBPpwZSr3c1",
        "colab_type": "code",
        "colab": {}
      },
      "source": [
        "rosrun rospy_tutorials talker chatter:=/wg/chatter\n"
      ],
      "execution_count": null,
      "outputs": []
    },
    {
      "cell_type": "code",
      "metadata": {
        "id": "tDbKmkjRr8qe",
        "colab_type": "code",
        "colab": {}
      },
      "source": [
        "rosrun rospy_tutorials talker _param:=1.0"
      ],
      "execution_count": null,
      "outputs": []
    }
  ]
}