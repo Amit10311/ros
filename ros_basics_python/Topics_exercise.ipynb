{
  "nbformat": 4,
  "nbformat_minor": 0,
  "metadata": {
    "colab": {
      "name": "Topics_exercise.ipynb",
      "provenance": [],
      "collapsed_sections": []
    },
    "kernelspec": {
      "name": "python3",
      "display_name": "Python 3"
    }
  },
  "cells": [
    {
      "cell_type": "markdown",
      "metadata": {
        "id": "1C__IB5C8ndf",
        "colab_type": "text"
      },
      "source": [
        "# Solutions for Unit 2 Topics Part 2\n"
      ]
    },
    {
      "cell_type": "markdown",
      "metadata": {
        "id": "PXszbRBG9EgO",
        "colab_type": "text"
      },
      "source": [
        "## Solution Exercise 3.2"
      ]
    },
    {
      "cell_type": "markdown",
      "metadata": {
        "id": "-06HFeIrN5_5",
        "colab_type": "text"
      },
      "source": [
        "For this exercise, we will assume that our package is called **read_odometry**, our launch file is called **odom_subscriber.launch** and our Python file is called **odom_subscriber.py**.\n"
      ]
    },
    {
      "cell_type": "markdown",
      "metadata": {
        "id": "pwwqOiHROLB3",
        "colab_type": "text"
      },
      "source": [
        "**Launch File: odom_subscriber.launch** </p>"
      ]
    },
    {
      "cell_type": "code",
      "metadata": {
        "id": "G55aK-9zORDb",
        "colab_type": "code",
        "colab": {}
      },
      "source": [
        "<launch>\n",
        "    <node pkg=\"read_odometry\" type=\"odom_subscriber.py\" name=\"odom_sub_node\" output=\"screen\" />\n",
        "</launch>"
      ],
      "execution_count": null,
      "outputs": []
    },
    {
      "cell_type": "markdown",
      "metadata": {
        "id": "X9IA2ShiOYFy",
        "colab_type": "text"
      },
      "source": [
        "**Python File: odom_subscriber.py**\n",
        "\n"
      ]
    },
    {
      "cell_type": "code",
      "metadata": {
        "colab_type": "code",
        "id": "tWkbhgDvOR19",
        "colab": {}
      },
      "source": [
        "#! /usr/bin/env python\n",
        "\n",
        "import rospy\n",
        "from nav_msgs.msg import Odometry\n",
        "\n",
        "def callback(msg): \n",
        "  print msg #This will print the whole Odometry message\n",
        "# print msg.header #This will print the header section of the Odometry message\n",
        "# print msg.pose # #This will print the pose section of the Odometry message\n",
        "    \n",
        "rospy.init_node('odom_sub_node')\n",
        "sub = rospy.Subscriber('/odom', Odometry, callback)\n",
        "rospy.spin()"
      ],
      "execution_count": null,
      "outputs": []
    },
    {
      "cell_type": "markdown",
      "metadata": {
        "id": "hhTLI8ZaOb55",
        "colab_type": "text"
      },
      "source": [
        "Summarizing, you need to take into account that the **msg** variable that is recevied by the **callback** function will contain the whole Odometry message.\n",
        "\n",
        "* So, if you want to acces any specific value of the message, you will have to do it like it is shown in the comments inside the function."
      ]
    },
    {
      "cell_type": "markdown",
      "metadata": {
        "id": "Z2bRO86JOlcR",
        "colab_type": "text"
      },
      "source": [
        "So, for instance, by printing the whole **msg** variable, you will get something like this:\n",
        "\n"
      ]
    },
    {
      "cell_type": "code",
      "metadata": {
        "id": "EwBO3-RQOyWe",
        "colab_type": "code",
        "colab": {}
      },
      "source": [
        "print msg"
      ],
      "execution_count": null,
      "outputs": []
    },
    {
      "cell_type": "markdown",
      "metadata": {
        "id": "6eL8x0YqOwKl",
        "colab_type": "text"
      },
      "source": [
        "## Solution Exercise 3.3"
      ]
    },
    {
      "cell_type": "markdown",
      "metadata": {
        "id": "4hAih4s9Ws0P",
        "colab_type": "text"
      },
      "source": [
        "For this exercise, we will assume that our package is called **exercise_33**, for future references\n",
        "\n"
      ]
    },
    {
      "cell_type": "code",
      "metadata": {
        "id": "n56xp9ghW2pt",
        "colab_type": "code",
        "colab": {}
      },
      "source": [
        "roscd exercise_33\n",
        "mkdir msg"
      ],
      "execution_count": null,
      "outputs": []
    },
    {
      "cell_type": "markdown",
      "metadata": {
        "id": "CafqIth7WzPZ",
        "colab_type": "text"
      },
      "source": [
        "**Message File: Age.msg**"
      ]
    },
    {
      "cell_type": "code",
      "metadata": {
        "id": "qr70g9QIXPl2",
        "colab_type": "code",
        "colab": {}
      },
      "source": [
        "float32 years\n",
        "float32 months\n",
        "float32 days"
      ],
      "execution_count": null,
      "outputs": []
    },
    {
      "cell_type": "markdown",
      "metadata": {
        "id": "yobLpQ8EXSoy",
        "colab_type": "text"
      },
      "source": [
        "**CMakeLists.txt**"
      ]
    },
    {
      "cell_type": "code",
      "metadata": {
        "id": "XNWFLO6gYjUn",
        "colab_type": "code",
        "colab": {}
      },
      "source": [
        "cmake_minimum_required(VERSION 2.8.3)\n",
        "project(exercise_33)\n",
        "\n",
        "## Here go all the packages needed to COMPILE the messages of topic, services and actions.\n",
        "## Its only geting its paths, and not really importing them to be used in the compilation.\n",
        "## Its only for further functions in CMakeLists.txt to be able to find those packages.\n",
        "## In package.xml you have to state them as build\n",
        "find_package(catkin REQUIRED COMPONENTS\n",
        "  std_msgs\n",
        "  message_generation\n",
        ")\n",
        "\n",
        "## Generate topic messages in the 'msg' folder\n",
        "## In this function will be placed all the topic messages files of this package ( in the msg folder ) to be compiled.\n",
        "add_message_files(\n",
        "  FILES\n",
        "  Age.msg\n",
        ")\n",
        "\n",
        "## Here is where the packages needed for the topic messages compilation are imported.\n",
        "generate_messages(\n",
        "  DEPENDENCIES\n",
        "  std_msgs\n",
        ")\n",
        "\n",
        "## State here all the packages that will be needed by someone that executes something from your package.\n",
        "## All the packages stated here must be in the package.xml as exec_depend\n",
        "catkin_package(\n",
        "  CATKIN_DEPENDS rospy message_runtime\n",
        ")\n",
        "\n",
        "include_directories(\n",
        "  ${catkin_INCLUDE_DIRS}\n",
        ")"
      ],
      "execution_count": null,
      "outputs": []
    },
    {
      "cell_type": "code",
      "metadata": {
        "id": "UiXYTQ-7Yr5l",
        "colab_type": "code",
        "colab": {}
      },
      "source": [
        "roscd\n",
        "cd ..\n",
        "catkin_make\n",
        "source devel/setup.bash"
      ],
      "execution_count": null,
      "outputs": []
    },
    {
      "cell_type": "code",
      "metadata": {
        "id": "3vdb57eKaX0d",
        "colab_type": "code",
        "colab": {}
      },
      "source": [
        "rosmsg list | grep Age"
      ],
      "execution_count": null,
      "outputs": []
    },
    {
      "cell_type": "markdown",
      "metadata": {
        "id": "nDB7la7XYyZO",
        "colab_type": "text"
      },
      "source": [
        "\n",
        "\n",
        "```\n",
        "exercise_33/Age\n",
        "```\n",
        "\n"
      ]
    },
    {
      "cell_type": "code",
      "metadata": {
        "id": "QL8Lsi5Xai9P",
        "colab_type": "code",
        "colab": {}
      },
      "source": [
        "<launch>\n",
        "    <node pkg=\"exercise_33\" type=\"publish_age.py\" name=\"publish_age_node\" output=\"screen\" />\n",
        "</launch>"
      ],
      "execution_count": null,
      "outputs": []
    },
    {
      "cell_type": "code",
      "metadata": {
        "id": "xr4_c3Uhaof-",
        "colab_type": "code",
        "colab": {}
      },
      "source": [
        "#! /usr/bin/env python\n",
        "\n",
        "import rospy\n",
        "from exercise_33.msg import Age #Import Age message from the exercise_33 package\n",
        "\n",
        "rospy.init_node('publish_age_node')\n",
        "pub = rospy.Publisher('/age_info', Age, queue_size=1) #Create a Publisher that will publish in the /age_info topic\n",
        "rate = rospy.Rate(2)\n",
        "age = Age() #Create an Age message object\n",
        "age.years = 5 #Fill the values of the message\n",
        "age.months = 10 #Fill the values of the message\n",
        "age.days = 21 #Fill the values of the message\n",
        "\n",
        "while not rospy.is_shutdown(): \n",
        "  pub.publish(age) #Publish the message into the defined topic /age_info\n",
        "  rate.sleep()"
      ],
      "execution_count": null,
      "outputs": []
    },
    {
      "cell_type": "code",
      "metadata": {
        "id": "-ksT6vDFayTE",
        "colab_type": "code",
        "colab": {}
      },
      "source": [
        "roslaunch exercise_33 publish_age.launch"
      ],
      "execution_count": null,
      "outputs": []
    },
    {
      "cell_type": "code",
      "metadata": {
        "id": "x2vYg_yha2OI",
        "colab_type": "code",
        "colab": {}
      },
      "source": [
        "rostopic echo /age_info"
      ],
      "execution_count": null,
      "outputs": []
    }
  ]
}