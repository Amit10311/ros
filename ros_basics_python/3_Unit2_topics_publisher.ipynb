{
  "nbformat": 4,
  "nbformat_minor": 0,
  "metadata": {
    "colab": {
      "name": "3_Unit2_topics_publisher.ipynb",
      "provenance": [],
      "collapsed_sections": []
    },
    "kernelspec": {
      "name": "python3",
      "display_name": "Python 3"
    }
  },
  "cells": [
    {
      "cell_type": "markdown",
      "metadata": {
        "id": "MDcm785QsTN0",
        "colab_type": "text"
      },
      "source": [
        "\n",
        "# Unit 2: Topics\n",
        "\n",
        "What will you learn with this unit?\n",
        "\n",
        "> 1. ROS **topics** and how to manage them\n",
        "2. **Publisher** and how to create one\n",
        "3. **Topic messages** and how they work\n"
      ]
    },
    {
      "cell_type": "markdown",
      "metadata": {
        "id": "yzhYtlWCsqi9",
        "colab_type": "text"
      },
      "source": [
        "# Part 1: Publisher\n"
      ]
    },
    {
      "cell_type": "markdown",
      "metadata": {
        "id": "lo30VXnGtBNe",
        "colab_type": "text"
      },
      "source": [
        "## **Example 2.1**\n",
        "\n",
        "**Python Program {2.1}: simple_topic_publisher.py**"
      ]
    },
    {
      "cell_type": "markdown",
      "metadata": {
        "id": "QIfPiORKwexj",
        "colab_type": "text"
      },
      "source": [
        "[ROS Message Types](http://wiki.ros.org/std_msgs)   Package Summary\n",
        "\n",
        "check for \n",
        "> **ROS Message Types**"
      ]
    },
    {
      "cell_type": "code",
      "metadata": {
        "id": "RboGmKHhtMPS",
        "colab_type": "code",
        "colab": {}
      },
      "source": [
        "#! /usr/bin/env python\n",
        "\n",
        "import rospy\n",
        "\n",
        "from std_msgs.msg import Int32          # from PACKAGE_NAME import MESSAGE_TYPE    # File:\n",
        "rost  r\n",
        "rospy.init_node('topic_publisher')         # Node name  \n",
        "\n",
        "pub = rospy.Publisher('/counter', Int32, queue_size=1)     # Publisher description\n",
        "\n",
        "\n",
        "rate = rospy.Rate(2)                       # Rate object of 2Hz\n",
        "count = Int32()                            # Type: std_msgs/Int32\n",
        "count.data = 0                             # int32 data\n",
        "\n",
        "while not rospy.is_shutdown():             # Endless loop \n",
        "  pub.publish(count)\n",
        "  count.data += 1\n",
        "  rate.sleep()                              # sleep "
      ],
      "execution_count": null,
      "outputs": []
    },
    {
      "cell_type": "markdown",
      "metadata": {
        "id": "UOSlKnsovMIo",
        "colab_type": "text"
      },
      "source": [
        "**Nodes use topics to publish information for other nodes** so that they can communicate.\n",
        "\n",
        "> You can find out, at any time, the number of topics in the system by doing a **rostopic list**. \n",
        "> * You can also check for a specific topic."
      ]
    },
    {
      "cell_type": "code",
      "metadata": {
        "id": "2tLGajGuwIRy",
        "colab_type": "code",
        "colab": {}
      },
      "source": [
        "# filter \n",
        "rostopic list | grep  '/counter'"
      ],
      "execution_count": null,
      "outputs": []
    },
    {
      "cell_type": "code",
      "metadata": {
        "id": "Nr5zuVLPwN4j",
        "colab_type": "code",
        "colab": {}
      },
      "source": [
        "# user ~ $ rostopic list | grep '/counter'\n",
        "\n",
        "/counter"
      ],
      "execution_count": null,
      "outputs": []
    },
    {
      "cell_type": "markdown",
      "metadata": {
        "id": "_sCteZ5fwfqa",
        "colab_type": "text"
      },
      "source": [
        "You can request information about a topic by doing **rostopic info**  \n",
        "    < name_of_topic >"
      ]
    },
    {
      "cell_type": "code",
      "metadata": {
        "id": "1aP1g8GuwhKi",
        "colab_type": "code",
        "colab": {}
      },
      "source": [
        "rostopic info /counter"
      ],
      "execution_count": null,
      "outputs": []
    },
    {
      "cell_type": "code",
      "metadata": {
        "id": "B8fpVFD0w3wr",
        "colab_type": "code",
        "colab": {}
      },
      "source": [
        "user ~ $ rostopic info /counter\n",
        "Type: std_msgs/Int32\n",
        "\n",
        "Publishers:\n",
        " * /topic_publisher (http://ip-172-31-16-133:47971/)\n",
        "\n",
        "Subscribers: None"
      ],
      "execution_count": null,
      "outputs": []
    },
    {
      "cell_type": "markdown",
      "metadata": {
        "id": "bdPq1EnTxNZf",
        "colab_type": "text"
      },
      "source": [
        "The output indicates the type of information published \n",
        "> * **(std_msgs/Int32)**, the node that is publishing this information\n",
        "> * **(/topic_publisher)**, and if there is a node listening to that info (None in this case)."
      ]
    },
    {
      "cell_type": "code",
      "metadata": {
        "id": "ZZ5KVyofxaVv",
        "colab_type": "code",
        "colab": {}
      },
      "source": [
        "rostopic echo /counter\n",
        "\n",
        "# count.data += 1\n",
        "\n",
        "data:\n",
        "985\n",
        "---\n",
        "data:\n",
        "986\n",
        "---\n",
        "data:\n",
        "987\n",
        "---\n",
        "data:\n",
        "988"
      ],
      "execution_count": null,
      "outputs": []
    },
    {
      "cell_type": "code",
      "metadata": {
        "id": "bEO9M4FZzYsn",
        "colab_type": "code",
        "colab": {}
      },
      "source": [
        "#! /usr/bin/env python\n",
        "\n",
        "import rospy                               # Import the Python library for ROS\n",
        "from std_msgs.msg import Int32             # Import the Int32 message from the std_msgs package\n",
        "\n",
        "rospy.init_node('topic_publisher')         # Initiate a Node named 'topic_publisher'\n",
        "\n",
        "                      # Creating  Publisher  Topic  \n",
        "pub = rospy.Publisher('/counter', Int32, queue_size=1)    \n",
        "                                           # 1. Create a Publisher object, \n",
        "                                           # 2. that will publish on the /counter topic\n",
        "                                           # 3. messages of type Int32\n",
        "                     # intialize Publisher \n",
        "\n",
        "rate = rospy.Rate(2)                       # Set a publish rate of 2 Hz\n",
        "count = Int32()                            # Create a var of type Int32\n",
        "count.data = 0                             # Initialize 'count' variable\n",
        "\n",
        "while not rospy.is_shutdown():             # Create a loop that will go until someone stops the program execution\n",
        "\n",
        "  pub.publish(count)                       # Publish the message within the 'count' variable\n",
        "  count.data += 1                          # Increment 'count' variable\n",
        "  rate.sleep()                             # Make sure the publish rate maintains at 2 Hz"
      ],
      "execution_count": null,
      "outputs": []
    },
    {
      "cell_type": "markdown",
      "metadata": {
        "id": "dhoD9aME26qa",
        "colab_type": "text"
      },
      "source": [
        "* **A publisher is a node that keeps publishing a message into a topic**. So now... what's a topic?\n",
        "\n",
        "* **A topic is a channel that acts as a pipe, where other ROS nodes can either publish or read information**. \n",
        "> Let's now see some commands related to topics (some of them you've already used)."
      ]
    },
    {
      "cell_type": "markdown",
      "metadata": {
        "id": "gUlGwuYm4FaY",
        "colab_type": "text"
      },
      "source": [
        " In this case, you **can read just the last message published into a topic** with the next command:"
      ]
    },
    {
      "cell_type": "code",
      "metadata": {
        "id": "aMe-Qt0u4UE8",
        "colab_type": "code",
        "colab": {}
      },
      "source": [
        "rostopic echo <topic_name> -n1"
      ],
      "execution_count": null,
      "outputs": []
    },
    {
      "cell_type": "markdown",
      "metadata": {
        "id": "Dp58p5zQ4W4F",
        "colab_type": "text"
      },
      "source": [
        "To **get information about a certain topic**, use the next command:"
      ]
    },
    {
      "cell_type": "code",
      "metadata": {
        "id": "xgY0iHmD4bLr",
        "colab_type": "code",
        "colab": {}
      },
      "source": [
        "rostopic info <topic_name>"
      ],
      "execution_count": null,
      "outputs": []
    },
    {
      "cell_type": "markdown",
      "metadata": {
        "id": "8O-OJoF3461-",
        "colab_type": "text"
      },
      "source": [
        "## **Information of Topic**\n",
        "\n",
        "1. Type \n",
        "2. Publisher \n",
        "3. Subscribers: None"
      ]
    },
    {
      "cell_type": "markdown",
      "metadata": {
        "id": "nPWo0ATM4ph5",
        "colab_type": "text"
      },
      "source": [
        "## **2. Messages**\n",
        "\n",
        "As you may have noticed, topics handle information through messages. \n",
        "> There are many different types of messages.\n",
        "\n",
        "In the case of the code you executed before, the message type was an **std_msgs/Int32**, but ROS provides a lot of different messages. \n",
        "> You can even create your own messages, but it is recommended to use ROS default messages when its possible.\n",
        "\n",
        "Messages are defined in **.msg files**, which are located inside a **msg** directory of a package."
      ]
    },
    {
      "cell_type": "markdown",
      "metadata": {
        "id": "mlaHkGKA6GpS",
        "colab_type": "text"
      },
      "source": [
        "**To get information about a message,** you use the next command:"
      ]
    },
    {
      "cell_type": "code",
      "metadata": {
        "id": "7CGoqeB66Ko9",
        "colab_type": "code",
        "colab": {}
      },
      "source": [
        "rosmsg show <message>"
      ],
      "execution_count": null,
      "outputs": []
    },
    {
      "cell_type": "code",
      "metadata": {
        "id": "7aTX8Ptk6OuF",
        "colab_type": "code",
        "colab": {}
      },
      "source": [
        "rosmsg show std_msgs/Int32"
      ],
      "execution_count": null,
      "outputs": []
    },
    {
      "cell_type": "code",
      "metadata": {
        "id": "AJTQQOuO6Y8o",
        "colab_type": "code",
        "colab": {}
      },
      "source": [
        "user ~ $ rosmsg show std_msgs/Int32\n",
        "\n",
        "/ [std_msgs/Int32]:\n",
        "int32 data"
      ],
      "execution_count": null,
      "outputs": []
    },
    {
      "cell_type": "markdown",
      "metadata": {
        "id": "JgnAyxOF6kyd",
        "colab_type": "text"
      },
      "source": [
        "In this case, the **Int32** message has only one variable named **data** of type **int32**. This Int32 message comes **from** the package std_msgs, and you can find it in its **msg** directory. If you want, you can have a look at the Int32.msg file by executing the following command:"
      ]
    },
    {
      "cell_type": "markdown",
      "metadata": {
        "id": "oWuPhO-h9Q-s",
        "colab_type": "text"
      },
      "source": [
        "## **Data for Excercice 2.1**\n",
        "\n",
        "1. The **/cmd_vel** topic is the topic used to move the robot.\n",
        "> * Do a **rostopic info /cmd_vel** in order to get information about this topic, and identify the message it uses. \n",
        "> * You have to modify the code to use that message."
      ]
    },
    {
      "cell_type": "markdown",
      "metadata": {
        "id": "zUhnRMvGASWs",
        "colab_type": "text"
      },
      "source": [
        "3. In order to know the structure of the Twist messages,\n",
        ">  you need to use the **rosmsg show command**, with the type of the message used by the topic /cmd_vel."
      ]
    },
    {
      "cell_type": "markdown",
      "metadata": {
        "id": "a1iKwc6AAFeF",
        "colab_type": "text"
      },
      "source": [
        "2. In order to fill the Twist message, you need to create an instance of the message. \n",
        "> In Python, this is done like this: **var = Twist()**"
      ]
    },
    {
      "cell_type": "markdown",
      "metadata": {
        "id": "ykSOfS0nB0iW",
        "colab_type": "text"
      },
      "source": [
        "4 .- In this case, the robot uses a differential drive plugin to move. \n",
        "> * That is, the robot can only move linearly in the **x axis, or rotationaly in the angular** z axis.\n",
        "> * This means that the only values that you need to fill in the Twist message are the **linear x and the angular z**.\n",
        "\n",
        "![image.png](data:image/png;base64,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)"
      ]
    },
    {
      "cell_type": "markdown",
      "metadata": {
        "id": "GBSRIRQCCRVh",
        "colab_type": "text"
      },
      "source": [
        "5.- The magnitudes of the Twist message are in m/s, so it is recommended to use values between 0 and 1. For example, 0'5 m/s."
      ]
    },
    {
      "cell_type": "markdown",
      "metadata": {
        "id": "wAEq1gCvCOIc",
        "colab_type": "text"
      },
      "source": [
        ""
      ]
    },
    {
      "cell_type": "code",
      "metadata": {
        "id": "kPM-xr20Ahtn",
        "colab_type": "code",
        "colab": {}
      },
      "source": [
        "#! /usr/bin/env python\n",
        "\n",
        "import rospy\n",
        "from geometry_msgs.msg import Twist       # msg data \n",
        "\n",
        "rospy.init_node('move_robot_node')       # node name\n",
        "\n",
        "pub = rospy.Publisher('/cmd_vel', Twist, queue_size=1)    # topic publishing \n",
        "\n",
        "rate = rospy.Rate(2)\n",
        "                                                     # Data insitializing \n",
        "move = Twist()                                        # 1. Object define to msg\n",
        "\n",
        "move.linear.x = 0.5 #Move the robot with a linear velocity in the x axis\n",
        "move.angular.z = 0.5 #Move the with an angular velocity in the z axis\n",
        "\n",
        "while not rospy.is_shutdown(): \n",
        "  pub.publish(move)\n",
        "  rate.sleep()"
      ],
      "execution_count": null,
      "outputs": []
    },
    {
      "cell_type": "code",
      "metadata": {
        "id": "uRaYyTcPAB-P",
        "colab_type": "code",
        "colab": {}
      },
      "source": [
        "#! /usr/bin/env python\n",
        "\n",
        "import rospy\n",
        "from geometry_msgs.msg import Twist \n",
        "\n",
        "rospy.init_node('topic_publisher')\n",
        "\n",
        "pub = rospy.Publisher('/cmd_vel', Twist, queue_size=1)\n",
        "rate = rospy.Rate(2)\n",
        "count = Twist()\n",
        "\n",
        "count.linear.x = 0.5\n",
        "count.angular.z = 0.5 \n",
        "\n",
        "while not rospy.is_shutdown(): \n",
        "  pub.publish(count)\n",
        "  rate.sleep()"
      ],
      "execution_count": null,
      "outputs": []
    },
    {
      "cell_type": "code",
      "metadata": {
        "id": "r8itfv4-SDVj",
        "colab_type": "code",
        "colab": {
          "base_uri": "https://localhost:8080/",
          "height": 129
        },
        "outputId": "fbf0b172-0321-41d5-edb5-d84e7536963e"
      },
      "source": [
        "rostopic pub  /cmd_vel geometry_msgs/Twist \"linear:\n",
        "  x: 0.0\n",
        "  y: 0.0\n",
        "  z: 0.0\n",
        "angular:\n",
        "  x: 0.0\n",
        "  y: 0.0\n",
        "  z: 0.0\""
      ],
      "execution_count": null,
      "outputs": [
        {
          "output_type": "error",
          "ename": "SyntaxError",
          "evalue": "ignored",
          "traceback": [
            "\u001b[0;36m  File \u001b[0;32m\"<ipython-input-3-ec30a9161299>\"\u001b[0;36m, line \u001b[0;32m1\u001b[0m\n\u001b[0;31m    rostopic pub  /cmd_vel geometry_msgs/Twist \"linear:\u001b[0m\n\u001b[0m               ^\u001b[0m\n\u001b[0;31mSyntaxError\u001b[0m\u001b[0;31m:\u001b[0m invalid syntax\n"
          ]
        }
      ]
    }
  ]
}