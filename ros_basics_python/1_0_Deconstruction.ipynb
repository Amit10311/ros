{
  "nbformat": 4,
  "nbformat_minor": 0,
  "metadata": {
    "colab": {
      "name": "1_0_Deconstruction.ipynb",
      "provenance": [],
      "collapsed_sections": []
    },
    "kernelspec": {
      "name": "python3",
      "display_name": "Python 3"
    }
  },
  "cells": [
    {
      "cell_type": "markdown",
      "metadata": {
        "id": "VdypNL1Np2VF",
        "colab_type": "text"
      },
      "source": [
        "# Chapter 0: Introduction\n",
        "\n",
        "If you want to become a robotics developer, you need to learn ROS!\n",
        "\n",
        "If you want to make a difference and create an intelligent robot, you need to learn ROS.\n",
        "\n",
        "The main purpose of this platform is to help you learn ROS fast, in an easy, intuitive, and practice-based way. **Our method is called 30/70**. \n",
        "\n",
        "You are going to dedicate 30% of the time learning theory and 70% of the time practicing with simulated robots."
      ]
    },
    {
      "cell_type": "code",
      "metadata": {
        "id": "M1r2EKSWpOCP",
        "colab_type": "code",
        "colab": {}
      },
      "source": [
        "# BB-8 robot around the desert!.\n",
        "roslaunch bb_8_teleop keyboard_teleop.launch"
      ],
      "execution_count": null,
      "outputs": []
    },
    {
      "cell_type": "markdown",
      "metadata": {
        "id": "yJLr2RZ_ipUQ",
        "colab_type": "text"
      },
      "source": [
        "How is it possible?\n",
        "We have created a learning method that allows you to get most of ROS in the minimum amount of time. Our method has 4 parts:\n",
        "\n",
        "**DECONSTRUCTION:** we have identified the important parts of ROS that you must master in order to understand 80% of ROS programs. You will concentrate on learning these parts very deep.\n",
        "\n",
        "**REMOVING**: we have removed many things that are not needed and just add noise to your learning.\n",
        "\n",
        "**LEARNING**: we guide you step by step in a progressive manner through all those important parts, starting always from a robot that does things.\n",
        "\n",
        "**PRACTICING**: we make you practice a lot on every step, always on a robot using our simulated robots."
      ]
    },
    {
      "cell_type": "markdown",
      "metadata": {
        "id": "5VfOjbfHjF5X",
        "colab_type": "text"
      },
      "source": [
        "## **1. First, Basic Concepts**\n",
        "\n",
        "\n",
        "Before starting to learn anything, you always need to first be introduced to some basic concepts. **For instance, you can't learn to run before you know how to walk**. And you can't learn to sing before you know how to talk. Right? So, with this course, it won't be any different.\n",
        "\n",
        "you need to learn before you start working on more complex concepts."
      ]
    },
    {
      "cell_type": "markdown",
      "metadata": {
        "id": "yHXQAXi6jebr",
        "colab_type": "text"
      },
      "source": [
        "## **2. Second,Topics**\n",
        "\n",
        "\n",
        "The very first thing you need to know in order to learn ROS is **how to work with topics**. \n",
        "\n",
        "* ROS handles almost all its communications through topics.\n",
        "\n",
        "* Even more complex communication systems, **such as services or actions, rely, at the end, on topics**. \n",
        "\n",
        "*  Through ROS topics, you will, for instance, be able to communicate with your robot in order to make it move, to read your robot's sensor readings, and more."
      ]
    },
    {
      "cell_type": "markdown",
      "metadata": {
        "id": "Qi8Lh_IMkjVg",
        "colab_type": "text"
      },
      "source": [
        "In this first chapter, (Course Preview), you'll be working with the **lovely Kobuki.**"
      ]
    },
    {
      "cell_type": "markdown",
      "metadata": {
        "id": "_1sNIyXLk25r",
        "colab_type": "text"
      },
      "source": [
        "## **Example 1.1**"
      ]
    },
    {
      "cell_type": "code",
      "metadata": {
        "id": "fQ5Wb217pF1p",
        "colab_type": "code",
        "colab": {}
      },
      "source": [
        "#! /usr/bin/env python\n",
        "\n",
        "import rospy\n",
        "from geometry_msgs.msg import Twist\n",
        "\n",
        "rospy.init_node('stop_node')\n",
        "pub = rospy.Publisher('/cmd_vel', Twist, queue_size=1)\n",
        "rate = rospy.Rate(2)\n",
        "move = Twist()\n",
        "move.linear.x = 0.5\n",
        "move.angular.z = 0.5\n",
        "\n",
        "while not rospy.is_shutdown():\n",
        "  pub.publish(move)\n",
        "  rate.sleep()"
      ],
      "execution_count": null,
      "outputs": []
    },
    {
      "cell_type": "code",
      "metadata": {
        "id": "aDqLksNep2GN",
        "colab_type": "code",
        "colab": {}
      },
      "source": [
        "roslaunch publisher_example move.launch"
      ],
      "execution_count": null,
      "outputs": []
    },
    {
      "cell_type": "markdown",
      "metadata": {
        "id": "DnjqeBg_l3Cy",
        "colab_type": "text"
      },
      "source": [
        "NODES\n",
        "  /\n",
        "  \n",
        "    move_node (publisher_example/move_code.py)"
      ]
    },
    {
      "cell_type": "markdown",
      "metadata": {
        "id": "aT0-2hQ2lXxh",
        "colab_type": "text"
      },
      "source": [
        "**NOTE**: You will notice that, **even after stopping the program, the robot will still keep moving**. In order to stop it, you will have to execute another command."
      ]
    },
    {
      "cell_type": "code",
      "metadata": {
        "id": "lFF9ywQVpMr8",
        "colab_type": "code",
        "colab": {}
      },
      "source": [
        "#! /usr/bin/env python\n",
        "\n",
        "import rospy\n",
        "from geometry_msgs.msg import Twist\n",
        "\n",
        "rospy.init_node('stop_node')\n",
        "pub = rospy.Publisher('/cmd_vel', Twist, queue_size=1)\n",
        "rate = rospy.Rate(2)\n",
        "move = Twist()\n",
        "move.linear.x = 0\n",
        "move.angular.z = 0\n",
        "\n",
        "while not rospy.is_shutdown():\n",
        "  pub.publish(move)\n",
        "  rate.sleep()"
      ],
      "execution_count": null,
      "outputs": []
    },
    {
      "cell_type": "code",
      "metadata": {
        "id": "YWE5DAQilefX",
        "colab_type": "code",
        "colab": {}
      },
      "source": [
        "roslaunch publisher_example stop.launch"
      ],
      "execution_count": null,
      "outputs": []
    },
    {
      "cell_type": "markdown",
      "metadata": {
        "id": "XibDTYjdmBEo",
        "colab_type": "text"
      },
      "source": [
        "\n",
        "NODES\n",
        "  /\n",
        "  \n",
        "    stop_node (publisher_example/stop_code.py)"
      ]
    },
    {
      "cell_type": "markdown",
      "metadata": {
        "id": "w2DwI9SSmLa5",
        "colab_type": "text"
      },
      "source": [
        "**Note 1:** Even after terminating the command with Ctrl+C, the robot will still keep moving. \n",
        "> * This is because the **robot will keep listening to the last message that you published on the topic**. You will understand what this means later."
      ]
    },
    {
      "cell_type": "markdown",
      "metadata": {
        "id": "Cuggv5T7mulO",
        "colab_type": "text"
      },
      "source": [
        "ROS program that writes a message into a topic, in this case into the **/cmd_vel** topic. \n",
        "\n",
        "> * This topic is the one used to send velocity commands to the base of the robot.\n",
        "* So, by sending a message through this topic, you've made the robot start moving."
      ]
    },
    {
      "cell_type": "markdown",
      "metadata": {
        "id": "xTmt0SAZnPvT",
        "colab_type": "text"
      },
      "source": [
        "## **3. Third,  Services**\n",
        "\n",
        "Topics are a very important part of ROS, and that they let you communicate with your robot. \n",
        " > But is this the only way?"
      ]
    },
    {
      "cell_type": "markdown",
      "metadata": {
        "id": "c-htYPp3nsZx",
        "colab_type": "text"
      },
      "source": [
        "As you can imagine, the answer is NO.\n",
        ">  Of course! ROS also provides **services**. \n",
        "> * Services allow you to code a specific functionality for your robot, and then provide for anyone to call it. \n",
        "> * For instance, you could create a service that makes your robot move for a \n",
        "specific period of time, and then stop.\n",
        "\n",
        "**Services** are a little bit more complex than topics since they are structured in two parts. \n",
        "> * On one side, you have the **Service Server**, which provides the functionality to anyone who wants to use it (call it). \n",
        "> *On the other side, you have the **Service Client**, which is the one who calls/requests the service functionality.\n",
        "\n",
        "\n",
        "Let's see an example of how you could call a previously created service, which makes the Kobuki robot move in a circle for 4 seconds."
      ]
    },
    {
      "cell_type": "markdown",
      "metadata": {
        "id": "H48QbkawoZHB",
        "colab_type": "text"
      },
      "source": [
        "## **Example 1.2**\n",
        "\n",
        "\n",
        "**IMPORTANT**: Make sure to stop all the previous programs running in your WebShells (by pressing Ctrl+C) before starting this example. Also, make sure that the Kobuki robot is not moving.\n",
        "\n"
      ]
    },
    {
      "cell_type": "code",
      "metadata": {
        "id": "Yz5DDwCapesI",
        "colab_type": "code",
        "colab": {}
      },
      "source": [
        "roslaunch service_demo service_launch.launch"
      ],
      "execution_count": null,
      "outputs": []
    },
    {
      "cell_type": "markdown",
      "metadata": {
        "id": "vgSl-u0KpiWt",
        "colab_type": "text"
      },
      "source": [
        "\n",
        "call the service."
      ]
    },
    {
      "cell_type": "code",
      "metadata": {
        "id": "pSm29eddprsm",
        "colab_type": "code",
        "colab": {}
      },
      "source": [
        "rosservice call /service_demo \"{}\""
      ],
      "execution_count": null,
      "outputs": []
    },
    {
      "cell_type": "markdown",
      "metadata": {
        "id": "GxfcE5-Npv39",
        "colab_type": "text"
      },
      "source": [
        "\n",
        "**Note 1**: The service must be up and running before you can call it.\n",
        "> So make sure that you have launched the service before calling it.\n",
        "\n",
        "\n",
        "**Note 2**: Bear in mind that your robot will start moving from the point you stopped it in the previous example. \n",
        "> So, it may not coincide with the gif shown."
      ]
    },
    {
      "cell_type": "markdown",
      "metadata": {
        "id": "KNRbn8LPqC73",
        "colab_type": "text"
      },
      "source": [
        "First, you **started the service** in order to make it available for anyone who wants to call it. Then, you executed a command that **called that service**. \n",
        "> The purpose of this service is to move the Kobuki robot in a circle for 4 seconds, and then stop it. \n",
        "> * So, when you called the service, the robot started performing this movement."
      ]
    },
    {
      "cell_type": "markdown",
      "metadata": {
        "id": "FEG7ZNnjqjvH",
        "colab_type": "text"
      },
      "source": [
        "##**4. Fourth, Actions**\n",
        "\n",
        "Actions are similar to services, in the sense that they also allow you to code a functionality for your robot, and then provide it so that anyone can call it.\n",
        "> * The main difference between actions and services is that \n",
        ">> when you call a service, the robot has to wait until the service has ended before doing something else. \n",
        "> * On the other hand, when you call an action, your robot can still keep doing something else while performing the action"
      ]
    },
    {
      "cell_type": "markdown",
      "metadata": {
        "id": "Aulrj6_hSbjR",
        "colab_type": "text"
      },
      "source": [
        "There are other differences, such as an **action allowing you to provide feedback** while the action is being performed. \n",
        "> *  example to work with an action."
      ]
    },
    {
      "cell_type": "markdown",
      "metadata": {
        "id": "FSSgF_48SpNu",
        "colab_type": "text"
      },
      "source": [
        "## **Example 1.3**\n",
        "\n",
        "**IMPORTANT**: Make sure to stop all of the programs running in your WebShells (by pressing Ctrl+C) before starting with this example."
      ]
    },
    {
      "cell_type": "code",
      "metadata": {
        "id": "SW8QjmV2S14o",
        "colab_type": "code",
        "colab": {}
      },
      "source": [
        " #1 in order to start the action.\n",
        "roslaunch action_demo action_launch.launch"
      ],
      "execution_count": null,
      "outputs": []
    },
    {
      "cell_type": "code",
      "metadata": {
        "id": "rXiGFSjATCZr",
        "colab_type": "code",
        "colab": {}
      },
      "source": [
        "#2 in order to \"call\" the action.\n",
        "roslaunch action_demo_client client_launch.launch"
      ],
      "execution_count": null,
      "outputs": []
    },
    {
      "cell_type": "markdown",
      "metadata": {
        "id": "YEntGO2FTH19",
        "colab_type": "text"
      },
      "source": [
        "## **5. you'll need to know how to use the Debugging Tools**\n",
        "\n",
        "you need to know this one thing: **you will have to deal with errors**."
      ]
    },
    {
      "cell_type": "markdown",
      "metadata": {
        "id": "EK_i5QKSULdl",
        "colab_type": "text"
      },
      "source": [
        "## Main Goal\n",
        "\n",
        "You will be able to \n",
        "1. move robots,\n",
        "2. read their sensor data, \n",
        "3. make the robots perform intelligent tasks, \n",
        "4. see visual representations of complex data such as pointclouds and \n",
        "5. debug errors in the programs."
      ]
    },
    {
      "cell_type": "markdown",
      "metadata": {
        "id": "irMcP1XcUle7",
        "colab_type": "text"
      },
      "source": [
        "This course can serve as an introduction to be able to understand the ROS documentation of\n",
        "1. complex ROS packages for object recognition,\n",
        "2. text to speech,\n",
        "3. navigation and \n",
        "4. all the other areas where has ROS developed code."
      ]
    }
  ]
}