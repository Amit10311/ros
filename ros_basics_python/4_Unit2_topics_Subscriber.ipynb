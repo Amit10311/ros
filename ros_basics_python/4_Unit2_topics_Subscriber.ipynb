{
  "nbformat": 4,
  "nbformat_minor": 0,
  "metadata": {
    "colab": {
      "name": "4_Unit2_topics_Subscriber.ipynb",
      "provenance": []
    },
    "kernelspec": {
      "name": "python3",
      "display_name": "Python 3"
    }
  },
  "cells": [
    {
      "cell_type": "code",
      "metadata": {
        "id": "p_3sydwaGVoC",
        "colab_type": "code",
        "colab": {}
      },
      "source": [
        "catkin_make --only-pkg-with-deps <target_package>\n",
        "\n",
        "catkin_make --pkg turtlebot\n"
      ],
      "execution_count": null,
      "outputs": []
    },
    {
      "cell_type": "markdown",
      "metadata": {
        "id": "YIjC_xAGShm1",
        "colab_type": "text"
      },
      "source": [
        "# Unit 2: Topics\n",
        "\n",
        "\n",
        "What will you learn with this unit?\n",
        "\n",
        "1. What is a **Subscriber**\n",
        "> **A subscriber is a node that reads information from a topic.**\n",
        "\n",
        "2. how to **create one**.\n",
        "3. How to **create your own message**. "
      ]
    },
    {
      "cell_type": "markdown",
      "metadata": {
        "id": "HkKgdwP4Sgr0",
        "colab_type": "text"
      },
      "source": [
        "## **Example 2.2**\n",
        "\n"
      ]
    },
    {
      "cell_type": "code",
      "metadata": {
        "id": "kRPAG4BES_UC",
        "colab_type": "code",
        "colab": {}
      },
      "source": [
        "# 1. simple_topic_subscriber.py\n",
        "\n",
        "#! /usr/bin/env python\n",
        "\n",
        "import rospy\n",
        "from std_msgs.msg import Int32 \n",
        "\n",
        "def callback(msg): \n",
        "  print msg.data\n",
        "\n",
        "rospy.init_node('topic_subscriber')\n",
        "sub = rospy.Subscriber('counter', Int32, callback)\n",
        "\n",
        "# spin() simply keeps python from exiting until this node is stopped\n",
        "rospy.spin()"
      ],
      "execution_count": null,
      "outputs": []
    },
    {
      "cell_type": "code",
      "metadata": {
        "id": "Fdugu2p7THgt",
        "colab_type": "code",
        "colab": {}
      },
      "source": [
        "# 2. Subscriber call\n",
        "\n",
        "rostopic echo /counter"
      ],
      "execution_count": null,
      "outputs": []
    },
    {
      "cell_type": "code",
      "metadata": {
        "id": "NlM0gXnxTN_a",
        "colab_type": "code",
        "colab": {}
      },
      "source": [
        "# user ~ $ rostopic echo /counter\n",
        "WARNING: no messages received and simulated time is active.\n",
        "Is /clock being published?"
      ],
      "execution_count": null,
      "outputs": []
    },
    {
      "cell_type": "markdown",
      "metadata": {
        "id": "XWtZuJ_CTEl1",
        "colab_type": "text"
      },
      "source": [
        "And what does this mean? This means that **nobody is publishing into the /counter topic**, so there's no information to be read."
      ]
    },
    {
      "cell_type": "code",
      "metadata": {
        "id": "KmZwm4SdTeA5",
        "colab_type": "code",
        "colab": {}
      },
      "source": [
        "# 3. \n",
        "rostopic pub <topic_name> <message_type> <value>"
      ],
      "execution_count": null,
      "outputs": []
    },
    {
      "cell_type": "code",
      "metadata": {
        "id": "jUzp7XL5Tigs",
        "colab_type": "code",
        "colab": {}
      },
      "source": [
        "# 4. Publishing now topic \n",
        "\n",
        "rostopic pub /counter std_msgs/Int32 5"
      ],
      "execution_count": null,
      "outputs": []
    },
    {
      "cell_type": "code",
      "metadata": {
        "id": "kNjKgkOMWnUL",
        "colab_type": "code",
        "colab": {}
      },
      "source": [
        "# rosmsg show std_msgs/Int32\n",
        "\n",
        "int32 data"
      ],
      "execution_count": null,
      "outputs": []
    },
    {
      "cell_type": "code",
      "metadata": {
        "id": "XMUy4QX9TugS",
        "colab_type": "code",
        "colab": {}
      },
      "source": [
        "# user ~ $ rostopic echo /counter\n",
        "WARNING: no messages received and simulated time is active.\n",
        "Is /clock being published?\n",
        "data:\n",
        "5\n",
        "---"
      ],
      "execution_count": null,
      "outputs": []
    },
    {
      "cell_type": "markdown",
      "metadata": {
        "id": "earv-MtSUC6Q",
        "colab_type": "text"
      },
      "source": [
        "## Explain the code \n",
        "\n",
        "everything with more detail, let's explain the code you executed."
      ]
    },
    {
      "cell_type": "code",
      "metadata": {
        "id": "dl5CYAZ-UBZg",
        "colab_type": "code",
        "colab": {}
      },
      "source": [
        "#! /usr/bin/env python\n",
        "\n",
        "import rospy                                          \n",
        "from std_msgs.msg import Int32 \n",
        "\n",
        "def callback(msg):                        # 1. Define a function called 'callback' that receives a parameter \n",
        "                                          # named 'msg'\n",
        "  \n",
        "    print msg.data                            # Print the value 'data' inside the 'msg' parameter\n",
        "\n",
        "\n",
        "rospy.init_node('topic_subscriber')          # 2. Initiate a Node called 'topic_subscriber'\n",
        "\n",
        "                                              # 3. Instance for subscriber\n",
        "sub = rospy.Subscriber('/counter', Int32, callback)   \n",
        "              # 1. Create a Subscriber object that will listen to the /counter\n",
        "              # 2. topic\n",
        "              # 3. something from the topic class\n",
        "              # 4. will cal the 'callback' function each time it reads\n",
        "              \n",
        "\n",
        "               # Create a loop that will keep the program in execution\n",
        "rospy.spin()                                       "
      ],
      "execution_count": null,
      "outputs": []
    },
    {
      "cell_type": "markdown",
      "metadata": {
        "id": "7KsuWNUmVco1",
        "colab_type": "text"
      },
      "source": [
        "## **Exercise 2.2**\n",
        "\n",
        "> * **The odometry of the robot is published by the robot into the /odom topic**.\n",
        "> * **You will need to figure out what message uses the /odom topic, and how the structure of this message is**."
      ]
    },
    {
      "cell_type": "code",
      "metadata": {
        "id": "NHdEXbaqVakY",
        "colab_type": "code",
        "colab": {}
      },
      "source": [
        "$ rostopic info /odom\n",
        "Type: nav_msgs/Odometry\n",
        "\n",
        "Publishers:\n",
        " * /gazebo (http://rosdscomputer:46617/)\n",
        "\n",
        "Subscribers: None"
      ],
      "execution_count": null,
      "outputs": []
    },
    {
      "cell_type": "code",
      "metadata": {
        "id": "nHIm_Ip7V6H0",
        "colab_type": "code",
        "colab": {}
      },
      "source": [
        "rosmsg show nav_msgs/Odometry\n",
        "\n",
        "std_msgs/Header header\n",
        "  uint32 seq\n",
        "  time stamp\n",
        "  string frame_id\n",
        "string child_frame_id\n",
        "geometry_msgs/PoseWithCovariance pose\n",
        "  geometry_msgs/Pose pose\n",
        "    geometry_msgs/Point position\n",
        "      float64 x\n",
        "      float64 y\n",
        "      float64 z\n",
        "    geometry_msgs/Quaternion orientation\n",
        "      float64 x\n",
        "      float64 y\n",
        "      float64 z\n",
        "      float64 w\n",
        "  float64[36] covariance\n",
        "geometry_msgs/TwistWithCovariance twist\n",
        "  geometry_msgs/Twist twist\n",
        "    geometry_msgs/Vector3 linear\n",
        "      float64 x\n",
        "      float64 y\n",
        "      float64 z\n",
        "    geometry_msgs/Vector3 angular\n",
        "      float64 x\n",
        "      float64 y\n",
        "      float64 z\n",
        "  float64[36] covariance"
      ],
      "execution_count": null,
      "outputs": []
    },
    {
      "cell_type": "code",
      "metadata": {
        "id": "tleTamBrVryW",
        "colab_type": "code",
        "colab": {}
      },
      "source": [
        "#! /usr/bin/env python\n",
        "\n",
        "import rospy\n",
        "from nav_msgs.msg import Odometry\n",
        "\n",
        "def callback(msg): \n",
        "  print msg          #This will print the whole Odometry message\n",
        "                     # print msg.header \n",
        "                     #This will print the header section of the Odometry message\n",
        "                    # print msg.pose \n",
        "                    # #This will print the pose section of the Odometry message\n",
        "    \n",
        "rospy.init_node('odom_sub_node')\n",
        "sub = rospy.Subscriber('/odom', Odometry, callback)\n",
        "rospy.spin()                                   "
      ],
      "execution_count": null,
      "outputs": []
    },
    {
      "cell_type": "code",
      "metadata": {
        "id": "oXjzQOxeYt_1",
        "colab_type": "code",
        "colab": {}
      },
      "source": [
        "# This will print the header section of the Odometry message\n",
        "#! /usr/bin/env python\n",
        "\n",
        "import rospy\n",
        "from nav_msgs.msg import Odometry\n",
        "\n",
        "def callback(msg): \n",
        "\n",
        "  print msg.header       \n",
        "  # print msg.pose    \n",
        "\n",
        "\n",
        "rospy.init_node('odom_sub_node')\n",
        "sub = rospy.Subscriber('/odom', Odometry, callback)\n",
        "rospy.spin()  "
      ],
      "execution_count": null,
      "outputs": []
    },
    {
      "cell_type": "markdown",
      "metadata": {
        "id": "Upkz1LjjdqXs",
        "colab_type": "text"
      },
      "source": [
        "## **Exercise 2.3**\n",
        "\n",
        "\n",
        "## How to Prepare CMakeLists.txt and package.xml for Custom Topic Message Compilation\n",
        "\n",
        "In order to create a new message, you will need to do the following steps:\n",
        "\n",
        "1. **Create a directory** named 'msg' inside your package\n",
        "2. Inside this directory, **create a file named Name_of_your_message.msg** (more information down)\n",
        "3. **Modify CMakeLists.txt file** (more information down)\n",
        "4. **Modify package.xml file** (more information down)\n",
        "5. **Compile**\n",
        "6. **Use in code**\n",
        "\n"
      ]
    },
    {
      "cell_type": "markdown",
      "metadata": {
        "id": "2e8z57lKeS-4",
        "colab_type": "text"
      },
      "source": [
        "Add to {Exercice 2.2}, a Python file that creates a publisher that indicates the age of the robot.\n",
        "\n",
        "> * For that, you'll need to create a new message called **Age.msg**.\n",
        "> *To see how you can do that, have a look at the detailed description How to prepare CMakeLists.txt and package.xml for custom topic message compilation."
      ]
    },
    {
      "cell_type": "markdown",
      "metadata": {
        "id": "mwodTKIrel2Z",
        "colab_type": "text"
      },
      "source": [
        "### 1) Create a directory msg in your package."
      ]
    },
    {
      "cell_type": "code",
      "metadata": {
        "id": "QnwqfeK9ehv8",
        "colab_type": "code",
        "colab": {}
      },
      "source": [
        "roscd <package_name>\n",
        "mkdir msg"
      ],
      "execution_count": null,
      "outputs": []
    },
    {
      "cell_type": "markdown",
      "metadata": {
        "id": "XHbzaqu7erov",
        "colab_type": "text"
      },
      "source": [
        "### 2) The Age.msg file must contain this:\n",
        "\n"
      ]
    },
    {
      "cell_type": "code",
      "metadata": {
        "id": "_VoW9BQYetaF",
        "colab_type": "code",
        "colab": {}
      },
      "source": [
        "float32 years\n",
        "float32 months\n",
        "float32 days"
      ],
      "execution_count": null,
      "outputs": []
    },
    {
      "cell_type": "markdown",
      "metadata": {
        "id": "DqlBwwiqevUi",
        "colab_type": "text"
      },
      "source": [
        "### 3) In CMakeLists.txt\n",
        "\n",
        "You will have to edit four functions inside CMakeLists.txt:\n",
        "\n",
        "1. find_package()\n",
        "2. add_message_files()\n",
        "3. generate_messages()\n",
        "4. catkin_package()"
      ]
    },
    {
      "cell_type": "code",
      "metadata": {
        "id": "GvIkEAX4et0D",
        "colab_type": "code",
        "colab": {}
      },
      "source": [
        "find_package(catkin REQUIRED COMPONENTS\n",
        "       rospy\n",
        "       std_msgs\n",
        "       message_generation   # Add message_generation here, after the other packages\n",
        ")"
      ],
      "execution_count": null,
      "outputs": []
    },
    {
      "cell_type": "code",
      "metadata": {
        "id": "zdI0UWTZet3I",
        "colab_type": "code",
        "colab": {}
      },
      "source": [
        "add_message_files(\n",
        "      FILES\n",
        "      Age.msg\n",
        "    ) # Dont Forget to UNCOMENT the parenthesis and add_message_files TOO"
      ],
      "execution_count": null,
      "outputs": []
    },
    {
      "cell_type": "markdown",
      "metadata": {
        "id": "vDbxBEG7fd6q",
        "colab_type": "text"
      },
      "source": [
        "**III. generate_messages()**\n",
        "\n",
        "Here is where the packages needed for the messages compilation are imported."
      ]
    },
    {
      "cell_type": "code",
      "metadata": {
        "id": "rkHmpGeIe8Xa",
        "colab_type": "code",
        "colab": {}
      },
      "source": [
        "generate_messages(\n",
        "      DEPENDENCIES\n",
        "      std_msgs\n",
        ") # Dont Forget to uncoment here TOO"
      ],
      "execution_count": null,
      "outputs": []
    },
    {
      "cell_type": "code",
      "metadata": {
        "id": "hTNU-cm9e9KO",
        "colab_type": "code",
        "colab": {}
      },
      "source": [
        "catkin_package(\n",
        "      CATKIN_DEPENDS rospy message_runtime   # This will NOT be the only thing here\n",
        ")"
      ],
      "execution_count": null,
      "outputs": []
    },
    {
      "cell_type": "markdown",
      "metadata": {
        "id": "fYdijulifEcl",
        "colab_type": "text"
      },
      "source": [
        "**Note: Keep in mind that the name of the package in the following example is topic_ex, so in your case, the name of the package may be different.**"
      ]
    },
    {
      "cell_type": "code",
      "metadata": {
        "id": "_S9pkgPbe9Qf",
        "colab_type": "code",
        "colab": {}
      },
      "source": [
        "cmake_minimum_required(VERSION 2.8.3)\n",
        "project(topic_ex)\n",
        "\n",
        "\n",
        "find_package(catkin REQUIRED COMPONENTS\n",
        "  std_msgs\n",
        "  message_generation\n",
        ")\n",
        "\n",
        "add_message_files(\n",
        "  FILES\n",
        "  Age.msg\n",
        ")\n",
        "\n",
        "generate_messages(\n",
        "  DEPENDENCIES\n",
        "  std_msgs\n",
        ")\n",
        "\n",
        "\n",
        "catkin_package(\n",
        "  CATKIN_DEPENDS rospy message_runtime\n",
        ")\n",
        "\n",
        "include_directories(\n",
        "  ${catkin_INCLUDE_DIRS}\n",
        ")"
      ],
      "execution_count": null,
      "outputs": []
    },
    {
      "cell_type": "markdown",
      "metadata": {
        "id": "oz17Nbr5fNrs",
        "colab_type": "text"
      },
      "source": [
        "### 4) Modify package.xml"
      ]
    },
    {
      "cell_type": "code",
      "metadata": {
        "id": "9Fzp_HbDftC3",
        "colab_type": "code",
        "colab": {}
      },
      "source": [
        "<build_depend>message_generation</build_depend> \n",
        "\n",
        "<build_export_depend>message_runtime</build_export_depend>\n",
        "<exec_depend>message_runtime</exec_depend>"
      ],
      "execution_count": null,
      "outputs": []
    },
    {
      "cell_type": "code",
      "metadata": {
        "id": "QncbMXbwf4Qy",
        "colab_type": "code",
        "colab": {}
      },
      "source": [
        "<buildtool_depend>catkin</buildtool_depend>\n",
        "  <build_depend>rospy</build_depend>\n",
        "  <build_export_depend>rospy</build_export_depend>\n",
        "  <exec_depend>rospy</exec_depend>\n",
        "\n",
        "  <build_depend>message_generation</build_depend> \n",
        "  <build_export_depend>message_runtime</build_export_depend>\n",
        "  <exec_depend>message_runtime</exec_depend>\n",
        "\n",
        "  <build_depend>std_msgs</build_depend>\n",
        "  <exec_depend>std_msgs</exec_depend>\n",
        "  <build_export_depend>std_msgs</build_export_depend>"
      ],
      "execution_count": null,
      "outputs": []
    },
    {
      "cell_type": "markdown",
      "metadata": {
        "id": "CFbevDVFiW3c",
        "colab_type": "text"
      },
      "source": [
        "### **OutPUT**"
      ]
    },
    {
      "cell_type": "code",
      "metadata": {
        "id": "YxDdI7eviTwO",
        "colab_type": "code",
        "colab": {}
      },
      "source": [
        "rosmsg show Age"
      ],
      "execution_count": null,
      "outputs": []
    },
    {
      "cell_type": "code",
      "metadata": {
        "id": "LNwMp5_ZiWCS",
        "colab_type": "code",
        "colab": {}
      },
      "source": [
        "[my_package/Age]:\n",
        "float32 years\n",
        "float32 months\n",
        "float32 days"
      ],
      "execution_count": null,
      "outputs": []
    },
    {
      "cell_type": "code",
      "metadata": {
        "id": "Gn_X9mB4mPDo",
        "colab_type": "code",
        "colab": {}
      },
      "source": [
        "#! /usr/bin/env python\n",
        "\n",
        "import rospy\n",
        "from exercise_23.msg import Age #Import Age message from the exercise_23 package\n",
        "\n",
        "rospy.init_node('publish_age_node')\n",
        "pub = rospy.Publisher('/age_info', Age, queue_size=1) #Create a Publisher that will publish in the /age_info topic\n",
        "rate = rospy.Rate(2)\n",
        "\n",
        "age = Age() #Create an Age message object\n",
        "age.years = 5 #Fill the values of the message\n",
        "age.months = 10 #Fill the values of the message\n",
        "age.days = 21 #Fill the values of the message\n",
        "\n",
        "while not rospy.is_shutdown(): \n",
        "  pub.publish(age) #Publish the message into the defined topic /age_info\n",
        "  rate.sleep()"
      ],
      "execution_count": null,
      "outputs": []
    },
    {
      "cell_type": "code",
      "metadata": {
        "id": "tR7UTSPemQ5-",
        "colab_type": "code",
        "colab": {}
      },
      "source": [
        "<launch>\n",
        "    <node pkg=\"exercise_23\" type=\"publish_age.py\" name=\"publish_age_node\" output=\"screen\" />\n",
        "</launch>"
      ],
      "execution_count": null,
      "outputs": []
    },
    {
      "cell_type": "code",
      "metadata": {
        "id": "Gl-BOGfAnp48",
        "colab_type": "code",
        "colab": {}
      },
      "source": [
        "rostopic echo /age_info"
      ],
      "execution_count": null,
      "outputs": []
    },
    {
      "cell_type": "markdown",
      "metadata": {
        "id": "SKkz37ifnyLs",
        "colab_type": "text"
      },
      "source": [
        "\n",
        "> \n",
        "> \n",
        "> \n",
        "> \n",
        "> \n",
        "> \n",
        "> \n",
        "> \n",
        "\n",
        "ROS Topics: http://wiki.ros.org/Topics\n",
        "\n",
        "ROS Messages: http://wiki.ros.org/Messages\n",
        "\n",
        "msg Files: http://wiki.ros.org/msg\n",
        "\n",
        "Publisher and Subscriber 1: http://wiki.ros.org/ROS/Tutorials/WritingPublisherSubscriber%28python%29\n",
        "\n",
        "Publisher and Subscriber 2: http://wiki.ros.org/ROS/Tutorials/ExaminingPublisherSubscriber"
      ]
    },
    {
      "cell_type": "markdown",
      "metadata": {
        "id": "pjLWSv9tsrhu",
        "colab_type": "text"
      },
      "source": [
        "## Exercise 2.4 \n",
        "\n",
        "Smart robot avoid obstacles \n"
      ]
    },
    {
      "cell_type": "code",
      "metadata": {
        "id": "sHTRpja4s5IG",
        "colab_type": "code",
        "colab": {}
      },
      "source": [
        "# laser_read.py \n",
        "\n",
        "#! /usr/bin/env python\n",
        "\n",
        "import rospy                                          \n",
        "from sensor_msgs.msg import LaserScan\n",
        "\n",
        "def callback(msg):                        # 1. Define a function called 'callback' that receives a parameter \n",
        "                                          \n",
        " \n",
        "    print msg.ranges[360]                       \n",
        "\n",
        "\n",
        "rospy.init_node('laser_subscriber')          # 2. Initiate a Node called 'topic_subscriber'\n",
        "\n",
        "                                          \n",
        "sub = rospy.Subscriber('/kobuki/laser/scan', LaserScan, callback)   \n",
        "             \n",
        "                  \n",
        "rospy.spin()"
      ],
      "execution_count": null,
      "outputs": []
    },
    {
      "cell_type": "code",
      "metadata": {
        "id": "CsuxDbNAtGPd",
        "colab_type": "code",
        "colab": {}
      },
      "source": [
        "# robot_move_forward.py \n",
        "#! /usr/bin/env python\n",
        "\n",
        "import rospy\n",
        "from geometry_msgs.msg import Twist\n",
        "\n",
        "rospy.init_node('move_robot_forward')\n",
        "pub = rospy.Publisher('/cmd_vel', Twist, queue_size=1)\n",
        "\n",
        "rate = rospy.Rate(2)\n",
        "move = Twist()\n",
        "move.angular.z = 0.5 #Move the with an angular velocity in the z axis\n",
        "\n",
        "while not rospy.is_shutdown(): \n",
        "  pub.publish(move)\n",
        "  rate.sleep()\n"
      ],
      "execution_count": null,
      "outputs": []
    },
    {
      "cell_type": "code",
      "metadata": {
        "id": "QGH0h30atSOE",
        "colab_type": "code",
        "colab": {}
      },
      "source": [
        "# robot_left.py \n",
        "#! /usr/bin/env python\n",
        "\n",
        "import rospy\n",
        "from geometry_msgs.msg import Twist\n",
        "\n",
        "rospy.init_node('move_robot_left')\n",
        "pub = rospy.Publisher('/cmd_vel', Twist, queue_size=1)\n",
        "\n",
        "\n",
        "rate = rospy.Rate(2)\n",
        "move = Twist()\n",
        "move.linear.x = 0.5 #Move the robot with a linear velocity in the x axis\n",
        "move.angular.z = 0.5 #Move the with an angular velocity in the z axis\n",
        "\n",
        "while not rospy.is_shutdown(): \n",
        "  pub.publish(move)\n",
        "  rate.sleep()"
      ],
      "execution_count": null,
      "outputs": []
    }
  ]
}