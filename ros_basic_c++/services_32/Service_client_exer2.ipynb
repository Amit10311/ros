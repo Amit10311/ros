{
  "nbformat": 4,
  "nbformat_minor": 0,
  "metadata": {
    "colab": {
      "name": "Service_client_exer2.ipynb",
      "provenance": [],
      "collapsed_sections": []
    },
    "kernelspec": {
      "name": "python3",
      "display_name": "Python 3"
    }
  },
  "cells": [
    {
      "cell_type": "markdown",
      "metadata": {
        "id": "LtDLz36-Sm5C"
      },
      "source": [
        "# **Exercise 3.2**\n",
        "\n"
      ]
    },
    {
      "cell_type": "markdown",
      "metadata": {
        "id": "bOuAF_F-SuhY"
      },
      "source": [
        "1. Create a launch that starts the **/execute_trajectory** service , called **my_robot_arm_demo.launch**. As explained in the Example 3.3, this service is launched by the launch file **start_service.launch**, which is in the package **iri_wam_reproduce_trajectory**.\n",
        "\n",
        "2. Get information of what type of service message does this execute_trajectory service use, as explained in **Example 3.5**.\n",
        "\n",
        "3. Make the arm robot move following a trajectory, which is specified in a file.\n",
        "Modify the previous code of **Exercise 3.1**, which called the **/trajectory_by_name** service, to call now the **/execute_trajectory** service instead.\n",
        "\n",
        "4. Here you have the code necessary to get the path to the trajectory files based on the package where they are. Here, the trajectory file **get_food.txt** is selected, but you can use any of the available in the **config** folder of the **iri_wam_reproduce_trajectory** package."
      ]
    },
    {
      "cell_type": "code",
      "metadata": {
        "id": "wn8eSwzKTiHh"
      },
      "source": [
        "#include <ros/package.h>\n",
        "\n",
        "// This ros::package::getPath works in the same way as $(find name_of_package) in the launch files.\n",
        "trajectory.request.file = ros::package::getPath(\"iri_wam_reproduce_trajectory\") + \"/config/get_food.txt\";"
      ],
      "execution_count": null,
      "outputs": []
    },
    {
      "cell_type": "markdown",
      "metadata": {
        "id": "kxT5v1KiTnow"
      },
      "source": [
        "5. In order to be able to properly compile the the **ros::package::getPath()** function, you will need to add dependencies to the **roslib** library.\n",
        " * You can do that by modifying the **find_package()** function in the **CmakeLists.txt** file. Like this:"
      ]
    },
    {
      "cell_type": "code",
      "metadata": {
        "id": "StYX1Ik8Tj-4"
      },
      "source": [
        "find_package(catkin REQUIRED COMPONENTS\n",
        "  roscpp\n",
        "  roslib\n",
        ")"
      ],
      "execution_count": null,
      "outputs": []
    },
    {
      "cell_type": "markdown",
      "metadata": {
        "id": "KD2tuKIeT1FN"
      },
      "source": [
        "6. Modify the main launch file **my_robot_arm_demo.launch**, so that now it also launches the new C++ code you have just created.\n",
        "\n",
        "7. Compile again your package.\n",
        "\n",
        "8. Finally, execute the **my_robot_arm_demo.launch** file and see how the robot performs the trajectory.\n",
        "\n"
      ]
    },
    {
      "cell_type": "markdown",
      "metadata": {
        "id": "WkUGHj_HXEJ7"
      },
      "source": [
        "# Solution Exercise 3.2\n"
      ]
    },
    {
      "cell_type": "markdown",
      "metadata": {
        "id": "KvQvEgEdXDaH"
      },
      "source": [
        "Step 1. create a package to place all the code.  you can call it **services_32**, with dependencies in **roscpp** and **iri_wam_reproduce_trajectory**."
      ]
    },
    {
      "cell_type": "code",
      "metadata": {
        "id": "ZijQRvXxUKDE"
      },
      "source": [
        "roscd;cd ../src\n",
        "catkin_create_pkg services_32 roscpp iri_wam_reproduce_trajectory\n",
        "cd services_32\n",
        "mkdir launch"
      ],
      "execution_count": null,
      "outputs": []
    },
    {
      "cell_type": "markdown",
      "metadata": {
        "id": "sE5UagtpX6gO"
      },
      "source": [
        "Step 2. Create a launch that starts the **/execute_strajectory service** , called **my_robot_arm_demo.launch**. \n",
        " * As explained in the example 3.3, \n",
        " > this service is launched by the launch **start_service.launch** in the package **iri_wam_reproduce_trajectory**."
      ]
    },
    {
      "cell_type": "markdown",
      "metadata": {
        "id": "5MKboAn3UPXj"
      },
      "source": [
        "**Launch File: my_robot_arm_demo.launch**\n",
        "\n"
      ]
    },
    {
      "cell_type": "code",
      "metadata": {
        "id": "9z6kWVdoUUNX"
      },
      "source": [
        "<launch>\n",
        "\n",
        "  <include file=\"$(find iri_wam_reproduce_trajectory)/launch/start_service.launch\"/>\n",
        "\n",
        "  <!-- Here will go our C++ code that calls the execute_trajectory service -->\n",
        "\n",
        "</launch>"
      ],
      "execution_count": null,
      "outputs": []
    },
    {
      "cell_type": "markdown",
      "metadata": {
        "id": "7269pb_kUaeE"
      },
      "source": [
        "Step 3. Launch it and check that the service **execute_trajectory** is working:\n",
        "\n"
      ]
    },
    {
      "cell_type": "markdown",
      "metadata": {
        "id": "6MnyOexzUyzE"
      },
      "source": [
        "Execute in WebShell #1\n",
        "\n"
      ]
    },
    {
      "cell_type": "code",
      "metadata": {
        "id": "wgxngZY5UqJ_"
      },
      "source": [
        "roslaunch services_32 my_robot_arm_demo.launch"
      ],
      "execution_count": null,
      "outputs": []
    },
    {
      "cell_type": "code",
      "metadata": {
        "id": "b0OxoVwgUr_8"
      },
      "source": [
        "[ WARN] [1506621085.854497817, 4552.117000000]: Shutdown request received.\n",
        "[ WARN] [1506621085.854552030, 4552.117000000]: Reason given for shutdown: [new node registered with same name]\n",
        "[ERROR] [1506621085.965156755, 4552.207000000]: Failed to execute [get_food.txt] trajectory"
      ],
      "execution_count": null,
      "outputs": []
    },
    {
      "cell_type": "markdown",
      "metadata": {
        "id": "w9-FlH4XUwkH"
      },
      "source": [
        "Execute in WebShell #2\n",
        "\n"
      ]
    },
    {
      "cell_type": "code",
      "metadata": {
        "id": "3Wy6mdTkUtj-"
      },
      "source": [
        "rosservice list | grep execute_trajectory"
      ],
      "execution_count": null,
      "outputs": []
    },
    {
      "cell_type": "markdown",
      "metadata": {
        "id": "GpCYfSr2U4yj"
      },
      "source": [
        "Step 4.  Get information of what type of service message does this **execute_trajectory** service use.\n"
      ]
    },
    {
      "cell_type": "markdown",
      "metadata": {
        "id": "G-Zy00pxU_OM"
      },
      "source": [
        "Execute in WebShell #2\n",
        "\n"
      ]
    },
    {
      "cell_type": "code",
      "metadata": {
        "id": "W8MRR9EqVAYY"
      },
      "source": [
        "rosservice info /execute_trajectory"
      ],
      "execution_count": null,
      "outputs": []
    },
    {
      "cell_type": "code",
      "metadata": {
        "id": "s088E0rGVE10"
      },
      "source": [
        "user:~/catkin_ws$ rosservice info /execute_trajectory\n",
        "Node: /iri_wam_reproduce_trajectory\n",
        "URI: rosrpc://ip-172-31-1-3:57245\n",
        "Type: iri_wam_reproduce_trajectory/ExecTraj\n",
        "Args: file"
      ],
      "execution_count": null,
      "outputs": []
    },
    {
      "cell_type": "markdown",
      "metadata": {
        "id": "o8tfVQLbVHNX"
      },
      "source": [
        "This tells us that if we have to call the service **execute_trajectory**, we will need to use the service message type **ExecTraj** from package **iri_wam_reproduce_trajectory**."
      ]
    },
    {
      "cell_type": "markdown",
      "metadata": {
        "id": "WJDJil3NVNts"
      },
      "source": [
        "Execute in WebShell #2\n",
        "\n"
      ]
    },
    {
      "cell_type": "code",
      "metadata": {
        "id": "NsPelkCEc21Z"
      },
      "source": [
        "rossrv show iri_wam_reproduce_trajectory/ExecTraj"
      ],
      "execution_count": null,
      "outputs": []
    },
    {
      "cell_type": "markdown",
      "metadata": {
        "id": "1Eb-eK37VScV"
      },
      "source": [
        "This should be the output:\n",
        "\n"
      ]
    },
    {
      "cell_type": "code",
      "metadata": {
        "id": "zjl2FFToVPyX"
      },
      "source": [
        "user:~/catkin_ws$ rossrv show iri_wam_reproduce_trajectory/ExecTraj\n",
        "string file\n",
        "---\n"
      ],
      "execution_count": null,
      "outputs": []
    },
    {
      "cell_type": "markdown",
      "metadata": {
        "id": "G7eBckizdHTD"
      },
      "source": [
        "1. **Request**: only a variable called file, of type String.\n",
        "\n",
        "2. **Response**: In this case it has none. It will be what we know as Empty response."
      ]
    },
    {
      "cell_type": "markdown",
      "metadata": {
        "id": "DW3-7CVFVZzz"
      },
      "source": [
        "Step 5. Now that we have all the information about the service we can start creating the C++ program to call it.\n",
        "\n",
        " * Make the arm robot move following a trajectory specified in a file.\n",
        " * Modify the previous code of **Exercise 3.1** that called **/trajectory_by_name**, to call the **/execute_trajectory** service instead. \n",
        " * The new C++ file could be called **execute_trajectory.cpp** for future reference."
      ]
    },
    {
      "cell_type": "markdown",
      "metadata": {
        "id": "4yrxV-NiVpRs"
      },
      "source": [
        "**C++ File: execute_trajectory.cpp**\n",
        "\n"
      ]
    },
    {
      "cell_type": "code",
      "metadata": {
        "id": "iU_jAcQIVrHX"
      },
      "source": [
        "#include \"ros/ros.h\"\n",
        "#include \"iri_wam_reproduce_trajectory/ExecTraj.h\"\n",
        "// Import the service message used by the service /execute_trajectory\n",
        "\n",
        "int main(int argc, char **argv)\n",
        "{\n",
        "  ros::init(argc, argv, \"execute_trajectory_node\");\n",
        "  ros::NodeHandle nh;\n",
        "  \n",
        "                //1. Create the connection to the service /execute_trajectory\n",
        "  ros::ServiceClient exec_traj_service = nh.serviceClient<iri_wam_reproduce_trajectory::ExecTraj>(\"/execute_trajectory\");\n",
        " \n",
        "                //2. Create an object of type ExecTraj\n",
        "  iri_wam_reproduce_trajectory::ExecTraj trajectory; \n",
        "    \n",
        "  //3. This ros::package::getPath works in the same way as $(find name_of_package) in launch files.\n",
        "  trajectory.request.file = \"file_path\";\n",
        " \n",
        "  // Fill the variable file of this object with the desired value\n",
        " \n",
        "\n",
        "               //4.  Send through connection, name of path file to be executed   \n",
        " \n",
        "  {\n",
        "  if (exec_traj_service.call(trajectory)) \n",
        "    ROS_INFO(\"%s\", \"Service successfully called. Executing trajectory.\");\n",
        "  }\n",
        "  else\n",
        "  {\n",
        "    ROS_ERROR(\"Failed to call service /execute_trajectory\");\n",
        "    return 1;\n",
        "  }\n",
        "\n",
        "  return 0;\n",
        "}"
      ],
      "execution_count": null,
      "outputs": []
    },
    {
      "cell_type": "markdown",
      "metadata": {
        "id": "PzTQHS7IVufH"
      },
      "source": [
        "As you can see , you need to specify the **file_path** into the **file** variable of the **Request**. But...Where are these trajectory files anyway?\n",
        "\n",
        "* Here you have the code necessary to get the path to the **trajectory_files** based on the package where they are. Here the **trajectory_file** **get_food.txt** is selected but you can use any of the available in the **config** folder in the package **iri_wam_reproduce_trajectory**."
      ]
    },
    {
      "cell_type": "code",
      "metadata": {
        "id": "XrTrwU09V-A4"
      },
      "source": [
        "#include <ros/package.h>\n",
        "\n",
        "// This ros::package::getPath works in the same way as $(find name_of_package) in the launch files.\n",
        "trajectory.request.file = ros::package::getPath(\"iri_wam_reproduce_trajectory\") + \"/config/get_food.txt\";"
      ],
      "execution_count": null,
      "outputs": []
    },
    {
      "cell_type": "markdown",
      "metadata": {
        "id": "Wmaq7rDQWBEM"
      },
      "source": [
        "Execute in WebShell #2\n",
        "\n"
      ]
    },
    {
      "cell_type": "code",
      "metadata": {
        "id": "9YE6CgNdWC78"
      },
      "source": [
        "roscd iri_wam_reproduce_trajectory\n",
        "cd config\n",
        "ls"
      ],
      "execution_count": null,
      "outputs": []
    },
    {
      "cell_type": "code",
      "metadata": {
        "id": "rx9EQ4H-WExU"
      },
      "source": [
        "user:/opt/ros/indigo/share/iri_wam_reproduce_trajectory/config$ ls\n",
        "get_food.txt  init_pos.txt  release_food.txt"
      ],
      "execution_count": null,
      "outputs": []
    },
    {
      "cell_type": "markdown",
      "metadata": {
        "id": "rcLxoq8ih7ED"
      },
      "source": [
        "Step 6. Copt the path to config "
      ]
    },
    {
      "cell_type": "code",
      "metadata": {
        "id": "pZkDu3TlWR3c"
      },
      "source": [
        "roscd services_32\n",
        "mkdir config\n",
        "roscd iri_wam_reproduce_trajectory/config\n",
        "cp get_food.txt /home/user/catkin_ws/src/services_32/config"
      ],
      "execution_count": null,
      "outputs": []
    },
    {
      "cell_type": "code",
      "metadata": {
        "id": "CCentzFVWToT"
      },
      "source": [
        "0.0112138,0.942628,0.133408,1.65916,-0.214736,-1.05983,-0.430974,0.00213521,0.313696,0.0892853,-0.29252,-0.110414,\n",
        "0.0677202,0.140693,-0.00383239,-0.0665293,0.0935825,-0.27529,-0.393899,0.351521,-0.0444471,0.579301,2.77829,\n",
        "-2.87128,0.0812354,-0.336139,-0.000311573,0.0183247,-1.86726,1.48766,3.67008,-1.55314,0.302464,0.355123,0.0429483,0.0256781,\n",
        "-0.100288,0.0139974,-0.00673008,-0.00101568,-0.000844474,-1.56452e-05,-0.687394,-2.01554,2.78754,0.84521,-0.523724,0.667854,0.0283819\n"
      ],
      "execution_count": null,
      "outputs": []
    },
    {
      "cell_type": "markdown",
      "metadata": {
        "id": "Fmbo2w9Ah_DF"
      },
      "source": [
        "Step 7. update the trajectory with the file of poses"
      ]
    },
    {
      "cell_type": "markdown",
      "metadata": {
        "id": "qg2ceXKrWiY-"
      },
      "source": [
        "**C++ File: Update file_execute_trajectory.cpp**\n",
        "\n"
      ]
    },
    {
      "cell_type": "code",
      "metadata": {
        "id": "EyXoNPVLWj_v"
      },
      "source": [
        "#include \"ros/ros.h\"\n",
        "#include \"iri_wam_reproduce_trajectory/ExecTraj.h\"\n",
        "#include <ros/package.h>\n",
        "// Import rospackage\n",
        "\n",
        "int main(int argc, char **argv)\n",
        "{\n",
        "  ros::init(argc, argv, \"execute_trajectory_node\");\n",
        "  ros::NodeHandle nh;\n",
        "  \n",
        "                   // 1. Create the connection to the service /execute_trajectory\n",
        "  ros::ServiceClient exec_traj_service = nh.serviceClient<iri_wam_reproduce_trajectory::ExecTraj>(\"/execute_trajectory\");\n",
        " \n",
        "                 // 2. Create an object of type ExecTraj\n",
        "  iri_wam_reproduce_trajectory::ExecTraj trajectory; \n",
        "    \n",
        "  //3.  This ros::package::getPath works in the same way as $(find name_of_package) in the launch files.\n",
        "  trajectory.request.file = ros::package::getPath(\"iri_wam_reproduce_trajectory\") + \"/config/get_food.txt\";\n",
        "  // Fill the variable file of this object with the desired value\n",
        "  \n",
        "  if (exec_traj_service.call(trajectory)) \n",
        "  {\n",
        "    ROS_INFO(\"%s\", \"Service successfully called. Executing trajectory.\");\n",
        "  }\n",
        "  else\n",
        "  {\n",
        "    ROS_ERROR(\"Failed to call service /execute_trajectory\");\n",
        "    return 1;\n",
        "  }\n",
        "\n",
        "  return 0;\n",
        "}"
      ],
      "execution_count": null,
      "outputs": []
    },
    {
      "cell_type": "markdown",
      "metadata": {
        "id": "tzz8pCLQpXCa"
      },
      "source": [
        "**CMaleList.txt**"
      ]
    },
    {
      "cell_type": "code",
      "metadata": {
        "id": "ImmQgK9fpTKA"
      },
      "source": [
        "find_package(catkin REQUIRED COMPONENTS\n",
        "  roscpp\n",
        "  roslib\n",
        "  iri_wam_reproduce_trajectory\n",
        ")\n",
        "\n",
        "###################################\n",
        "## catkin specific configuration ##\n",
        "###################################\n",
        "\n",
        "catkin_package(\n",
        "  INCLUDE_DIRS include\n",
        " #  LIBRARIES services_32\n",
        "  CATKIN_DEPENDS iri_wam_reproduce_trajectory roscpp roslib\n",
        "#  DEPENDS system_lib\n",
        ")\n",
        "\n",
        "###########\n",
        "## Build ##\n",
        "###########\n",
        "\n",
        "include_directories(\n",
        "# include\n",
        "  ${catkin_INCLUDE_DIRS}\n",
        ")\n",
        "\n",
        "\n",
        "add_executable(file_execute_trajectory src/file_execute_trajectory.cpp)\n",
        "\n",
        "add_dependencies(file_execute_trajectory \n",
        "      ${file_execute_trajectory_EXPORTED_TARGETS} ${catkin_EXPORTED_TARGETS})\n",
        "\n",
        "target_link_libraries(file_execute_trajectory \n",
        "   ${catkin_LIBRARIES}\n",
        " )\n",
        "\n"
      ],
      "execution_count": null,
      "outputs": []
    },
    {
      "cell_type": "markdown",
      "metadata": {
        "id": "9ex6mh5rpDWZ"
      },
      "source": [
        "**packge.xml**"
      ]
    },
    {
      "cell_type": "code",
      "metadata": {
        "id": "god5FEjfo-es"
      },
      "source": [
        "  <build_depend>iri_wam_reproduce_trajectory</build_depend>\n",
        "  <build_export_depend>iri_wam_reproduce_trajectory</build_export_depend>\n",
        "  <exec_depend>iri_wam_reproduce_trajectory</exec_depend>\n",
        "\n",
        "  <build_depend>roslib</build_depend>\n",
        "  <exec_depend>roslib</exec_depend>\n",
        "  <build_export_depend>roslib</build_export_depend>"
      ],
      "execution_count": null,
      "outputs": []
    },
    {
      "cell_type": "markdown",
      "metadata": {
        "id": "i54sSWPvWm0p"
      },
      "source": [
        "Step 8.Add the call of **execute_trajectory.cpp** to the main launch **my_robot_arm_demo.launch.**\n"
      ]
    },
    {
      "cell_type": "code",
      "metadata": {
        "id": "-XjBbRiXWsm9"
      },
      "source": [
        "<launch>\n",
        "\n",
        "  <include file=\"$(find iri_wam_reproduce_trajectory)/launch/start_service.launch\"/>\n",
        "\n",
        "  <!-- Here will go our C++ code that calls the execute_trajectory service -->\n",
        "    <node pkg =\"services_32\"\n",
        "        type=\"file_execute_trajectory\"\n",
        "        name=\"execute_trajectory_node\"\n",
        "        output=\"screen\">\n",
        "  </node>\n",
        "  \n",
        "</launch>"
      ],
      "execution_count": null,
      "outputs": []
    },
    {
      "cell_type": "markdown",
      "metadata": {
        "id": "42hcU0nkWvGy"
      },
      "source": [
        "Now Launch the **my_robot_arm_demo.launch** and see how the robot performs the trajectory.\n"
      ]
    },
    {
      "cell_type": "markdown",
      "metadata": {
        "id": "3SoAY-WAWyYu"
      },
      "source": [
        "You should get in case of executeing the **trajectory get_food.txt**, the following movement:\n",
        "\n"
      ]
    }
  ]
}