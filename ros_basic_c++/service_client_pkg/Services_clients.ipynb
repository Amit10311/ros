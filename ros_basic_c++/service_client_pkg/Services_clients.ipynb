{
  "nbformat": 4,
  "nbformat_minor": 0,
  "metadata": {
    "colab": {
      "name": "Services_clients.ipynb",
      "provenance": [],
      "collapsed_sections": []
    },
    "kernelspec": {
      "name": "python3",
      "display_name": "Python 3"
    }
  },
  "cells": [
    {
      "cell_type": "markdown",
      "metadata": {
        "id": "gm_rW5cQor7R"
      },
      "source": [
        "**Services are Synchronous.**\n",
        "* When your ROS program calls a service, your program can't continue until it receives a result from the service."
      ]
    },
    {
      "cell_type": "markdown",
      "metadata": {
        "id": "2UvUHfFwoO9R"
      },
      "source": [
        "**Conclusion: Use services when your program can't continue until it receives the result from the service.**"
      ]
    },
    {
      "cell_type": "markdown",
      "metadata": {
        "id": "A73zN-Sbo6gm"
      },
      "source": [
        "# **Example 3.1**"
      ]
    },
    {
      "cell_type": "code",
      "metadata": {
        "id": "Qt3PE9Wqo_It"
      },
      "source": [
        "roslaunch iri_wam_aff_demo start_demo.launch"
      ],
      "execution_count": null,
      "outputs": []
    },
    {
      "cell_type": "markdown",
      "metadata": {
        "id": "ai-X7rJdpipu"
      },
      "source": [
        "You can launch more than one node with a single launch file:\n",
        "\n",
        "```\n",
        "/iri_wam_reproduce_trajectory\n",
        "/iri_wam_aff_demo\n",
        "```\n",
        "\n",
        "\n",
        "\n",
        "\n",
        "\n"
      ]
    },
    {
      "cell_type": "code",
      "metadata": {
        "id": "hVNLK7TdpZqU"
      },
      "source": [
        "/gazebo\n",
        "/iri_wam/controller_spawner\n",
        "/iri_wam_aff_demo\n",
        "/iri_wam_reproduce_trajectory\n",
        "/joint_states_relay\n",
        "/kinect_base_link\n",
        "/robot_state_publisher"
      ],
      "execution_count": null,
      "outputs": []
    },
    {
      "cell_type": "markdown",
      "metadata": {
        "id": "RIk5Ycsgps3W"
      },
      "source": [
        "# **Example 3.2**\n",
        "\n"
      ]
    },
    {
      "cell_type": "code",
      "metadata": {
        "id": "8L1la6YNpttf"
      },
      "source": [
        "rosservice list"
      ],
      "execution_count": null,
      "outputs": []
    },
    {
      "cell_type": "code",
      "metadata": {
        "id": "p-a1zC_Rp4A3"
      },
      "source": [
        "/camera/rgb/image_raw/compressed/set_parameters\n",
        "/camera/set_camera_info\n",
        "/camera/set_parameters\n",
        "\n",
        "/execute_trajectory\n",
        "\n",
        "/gazebo/apply_body_wrench\n",
        "/gazebo/apply_joint_effort\n",
        "/gazebo/clear_body_wrenches\n",
        "/gazebo/clear_joint_forces\n",
        "/gazebo/delete_light\n",
        "/gazebo/delete_model\n",
        "/gazebo/get_joint_properties\n",
        "/gazebo/get_light_properties\n",
        "/gazebo/get_link_properties\n",
        "/gazebo/get_link_state\n",
        "/gazebo/get_loggers\n",
        "/gazebo/get_model_properties\n",
        "/gazebo/get_model_state\n",
        "/gazebo/get_physics_properties\n",
        "/gazebo/get_world_properties\n",
        "/gazebo/pause_physics\n",
        "/gazebo/reset_simulation\n",
        "/gazebo/reset_world\n",
        "/gazebo/set_joint_properties\n",
        "/gazebo/set_light_properties\n",
        "/gazebo/set_link_properties\n",
        "/gazebo/set_link_state\n",
        "/gazebo/set_logger_level\n",
        "/gazebo/set_model_configuration\n",
        "/gazebo/set_model_state\n",
        "/gazebo/set_parameters\n",
        "/gazebo/set_physics_properties\n",
        "/gazebo/spawn_sdf_model\n",
        "/gazebo/spawn_urdf_model\n",
        "/gazebo/unpause_physics\n",
        "\n",
        "/iri_wam/controller_manager/list_controller_types\n",
        "/iri_wam/controller_manager/list_controllers\n",
        "/iri_wam/controller_manager/load_controller\n",
        "/iri_wam/controller_manager/reload_controller_libraries\n",
        "/iri_wam/controller_manager/switch_controller\n",
        "/iri_wam/controller_manager/unload_controller\n",
        "/iri_wam/controller_spawner/get_loggers\n",
        "/iri_wam/controller_spawner/set_logger_level\n",
        "/iri_wam/iri_wam_controller/gains/iri_wam_joint_1/set_parameters\n",
        "/iri_wam/iri_wam_controller/gains/iri_wam_joint_2/set_parameters\n",
        "/iri_wam/iri_wam_controller/gains/iri_wam_joint_3/set_parameters\n",
        "/iri_wam/iri_wam_controller/gains/iri_wam_joint_4/set_parameters\n",
        "/iri_wam/iri_wam_controller/gains/iri_wam_joint_5/set_parameters\n",
        "/iri_wam/iri_wam_controller/gains/iri_wam_joint_6/set_parameters\n",
        "/iri_wam/iri_wam_controller/gains/iri_wam_joint_7/set_parameters\n",
        "/iri_wam/iri_wam_controller/query_state\n",
        "\n",
        "/iri_wam_aff_demo/get_loggers\n",
        "/iri_wam_aff_demo/set_logger_level\n",
        "/iri_wam_reproduce_trajectory/get_loggers\n",
        "/iri_wam_reproduce_trajectory/set_logger_level\n",
        "/joint_states_relay/get_loggers\n",
        "/joint_states_relay/set_logger_level\n",
        "/kinect_base_link/get_loggers\n",
        "/kinect_base_link/set_logger_level\n",
        "/robot_state_publisher/get_loggers\n",
        "/robot_state_publisher/set_logger_level"
      ],
      "execution_count": null,
      "outputs": []
    },
    {
      "cell_type": "code",
      "metadata": {
        "id": "tb1_RhX4qHBI"
      },
      "source": [
        "rosservice info /name_of_your_service"
      ],
      "execution_count": null,
      "outputs": []
    },
    {
      "cell_type": "code",
      "metadata": {
        "id": "LHMJ8kBnqJyX"
      },
      "source": [
        "rosservice info /execute_trajectory"
      ],
      "execution_count": null,
      "outputs": []
    },
    {
      "cell_type": "code",
      "metadata": {
        "id": "xWfGUIIYqN9T"
      },
      "source": [
        "user ~ $ rosservice info /execute_trajectory\n",
        "Node: /iri_wam_reproduce_trajectory\n",
        "URI: rosrpc://ip-172-31-17-169:35175\n",
        "Type: iri_wam_reproduce_trajectory/ExecTraj\n",
        "Args: file"
      ],
      "execution_count": null,
      "outputs": []
    },
    {
      "cell_type": "markdown",
      "metadata": {
        "id": "xCR1dwhqqW6P"
      },
      "source": [
        "1. **Node**: It states the node that provides (has created) that service.\n",
        "\n",
        "2. **Type**: It refers to the kind of message used by this service. It has the same structure as topics do.\n",
        " * It's always made of **package_where_the_service_message_is_defined /** **Name_of_the_File_where_Service_message_is_defined**. \n",
        " * **In this case, the package is** \n",
        " * **iri_wam_reproduce_trajectory**, and the file where the Service Message is defined is called **ExecTraj**.\n",
        "\n",
        "3. **Args**: Here you can find the arguments that this service takes when called. \n",
        " * In this case, it only takes a **trajectory file path** stored in the variable called **file**. "
      ]
    },
    {
      "cell_type": "markdown",
      "metadata": {
        "id": "h4OO47LdrRM3"
      },
      "source": [
        "# **Example 3.3**\n",
        "\n"
      ]
    },
    {
      "cell_type": "code",
      "metadata": {
        "id": "1Ooiram9rUTD"
      },
      "source": [
        "roscd iri_wam_aff_demo\n",
        "cd launch/\n",
        "cat start_demo.launch"
      ],
      "execution_count": null,
      "outputs": []
    },
    {
      "cell_type": "code",
      "metadata": {
        "id": "UPyzEkVAu9yu"
      },
      "source": [
        "<launch>\n",
        "\n",
        "  <include file=\"$(find iri_wam_reproduce_trajectory)/launch/start_service.launch\"/>\n",
        "\n",
        "  <node pkg =\"iri_wam_aff_demo\"\n",
        "        type=\"iri_wam_aff_demo_node\"\n",
        "        name=\"iri_wam_aff_demo\"\n",
        "        output=\"screen\">\n",
        "  </node>\n",
        "\n",
        "</launch>"
      ],
      "execution_count": null,
      "outputs": []
    },
    {
      "cell_type": "code",
      "metadata": {
        "id": "h_V2as_IvBXv"
      },
      "source": [
        "<include file=\"$(find package_where_launch_is)/launch/my_launch_file.launch\"/>"
      ],
      "execution_count": null,
      "outputs": []
    },
    {
      "cell_type": "markdown",
      "metadata": {
        "id": "OJeAEddLvZEy"
      },
      "source": [
        "# How to call a service ? \n"
      ]
    },
    {
      "cell_type": "code",
      "metadata": {
        "id": "1ArPaKa3vWpk"
      },
      "source": [
        "rosservice call /the_service_name TAB-TAB"
      ],
      "execution_count": null,
      "outputs": []
    },
    {
      "cell_type": "code",
      "metadata": {
        "id": "TBfnmj3IR26-"
      },
      "source": [
        "roslaunch trajectory_by_name start_service.launch"
      ],
      "execution_count": null,
      "outputs": []
    },
    {
      "cell_type": "code",
      "metadata": {
        "id": "cWkgiQeHR7YZ"
      },
      "source": [
        "rosservice call /trajectory_by_name [TAB]+[TAB]"
      ],
      "execution_count": null,
      "outputs": []
    },
    {
      "cell_type": "code",
      "metadata": {
        "id": "TSEHe1dJYgZY"
      },
      "source": [
        "rosservice call /trajectory_by_name \"traj_name: 'get_food'\""
      ],
      "execution_count": null,
      "outputs": []
    },
    {
      "cell_type": "markdown",
      "metadata": {
        "id": "i3D7NHr6YiyL"
      },
      "source": [
        "# **Exercise 3.1**\n",
        "\n"
      ]
    },
    {
      "cell_type": "markdown",
      "metadata": {
        "id": "ofrZaUZbZAYP"
      },
      "source": [
        "1. Create a new package named **service_client_pkg**.\n",
        " * When creating the package, add as dependencies the packages **roscpp** and also **trajectory_by_name_srv**.\n",
        "\n",
        "2. Inside the src folder of the package, create a new file named **simple_service_client.cpp**. Inside this file, copy the contents of **simple_service_client.cpp**\n",
        "\n",
        "3. Create a launch file for launching this code. Keep in mind that, in order to be able to call the /trajectory_by_name service, you need to have it running.\n",
        "\n",
        "4. Do the necessary modifications to your **CMakeLists.txt** file, and compile the package.\n",
        "\n",
        "5. Execute the launch file to run your executable."
      ]
    },
    {
      "cell_type": "code",
      "metadata": {
        "id": "FOzEP-1Q2rjX"
      },
      "source": [
        "catkin_create_pkg service_client_pkg roscpp trajectory_by_name_srv"
      ],
      "execution_count": null,
      "outputs": []
    },
    {
      "cell_type": "markdown",
      "metadata": {
        "id": "E-Vuoq_tYm3v"
      },
      "source": [
        "**C++ Program {3.1}: simple_service_client.cpp**\n",
        "\n"
      ]
    },
    {
      "cell_type": "code",
      "metadata": {
        "id": "oeNwsbbQYoyX"
      },
      "source": [
        "#include \"ros/ros.h\"\n",
        "#include \"trajectory_by_name_srv/TrajByName.h\"\n",
        "// Import the service message used by the service /trajectory_by_name\n",
        "\n",
        "int main(int argc, char **argv)\n",
        "{\n",
        "  ros::init(argc, argv, \"service_client\");  // Initialise a ROS node with the name service_client\n",
        "  ros::NodeHandle nh;\n",
        "\n",
        "  // Create the connection to the service /trajectory_by_name\n",
        "\n",
        "  ros::ServiceClient traj_by_name_service = nh.serviceClient<trajectory_by_name_srv::TrajByName>(\"/trajectory_by_name\");\n",
        " \n",
        "  trajectory_by_name_srv::TrajByName srv;   // Create an object of type TrajByName\n",
        " \n",
        "  srv.request.traj_name = \"release_food\";   // Fill the variable traj_name with the desired value\n",
        "  \n",
        "  if (traj_by_name_service.call(srv))  // Send through the connection the name of the trajectory to execute\n",
        "  {\n",
        "    ROS_INFO(\"%s\", srv.response.status_message.c_str());   // Print the result given by the service called\n",
        "  }\n",
        "  else\n",
        "  {\n",
        "    ROS_ERROR(\"Failed to call service /trajectory_by_name\");\n",
        "    return 1;\n",
        "  }\n",
        "\n",
        "  return 0;\n",
        "}"
      ],
      "execution_count": null,
      "outputs": []
    },
    {
      "cell_type": "markdown",
      "metadata": {
        "id": "3_zayygxxu4j"
      },
      "source": [
        "**Launch File: traj_by_name.launch**\n",
        "\n"
      ]
    },
    {
      "cell_type": "code",
      "metadata": {
        "id": "ThrnwhHTxs7d"
      },
      "source": [
        "<launch>\n",
        "\n",
        "    <include file=\"$(find trajectory_by_name)/launch/start_service.launch\" />\n",
        "\n",
        "    <node pkg=\"service_client_pkg\" type=\"simple_service_client\" name=\"service_client\" output=\"screen\" />\n",
        "\n",
        "</launch>"
      ],
      "execution_count": null,
      "outputs": []
    },
    {
      "cell_type": "markdown",
      "metadata": {
        "id": "fwO7v8Nnxz0R"
      },
      "source": [
        "Finally, you will need to add the following lines to the **CMakeLists.txt** files in order to generate the executable on compilation:\n",
        "\n"
      ]
    },
    {
      "cell_type": "code",
      "metadata": {
        "id": "vE8UlduExxXI"
      },
      "source": [
        "add_executable(traj_by_name src/traj_by_name.cpp)\n",
        "add_dependencies(traj_by_name ${traj_by_name_EXPORTED_TARGETS} ${catkin_EXPORTED_TARGETS})\n",
        "target_link_libraries(traj_by_name\n",
        "   ${catkin_LIBRARIES}\n",
        " )"
      ],
      "execution_count": null,
      "outputs": []
    },
    {
      "cell_type": "markdown",
      "metadata": {
        "id": "WEyfGBnz2jNP"
      },
      "source": [
        "## launch file"
      ]
    },
    {
      "cell_type": "code",
      "metadata": {
        "id": "rtxReh5L2ieP"
      },
      "source": [
        "roslaunch trajectory_by_name start_service.launch"
      ],
      "execution_count": null,
      "outputs": []
    },
    {
      "cell_type": "code",
      "metadata": {
        "id": "PzSJx0DD2pJs"
      },
      "source": [
        "roslaunch service_client_pkg traj_by_name.launch"
      ],
      "execution_count": null,
      "outputs": []
    },
    {
      "cell_type": "markdown",
      "metadata": {
        "id": "WrXTt83AeGRG"
      },
      "source": [
        "# How to know the structure of the service message used by the service?"
      ]
    },
    {
      "cell_type": "markdown",
      "metadata": {
        "id": "zZO7Qu2qZju3"
      },
      "source": [
        "# **Example 3.5**\n",
        "\n"
      ]
    },
    {
      "cell_type": "code",
      "metadata": {
        "id": "BWG41OzMZmK5"
      },
      "source": [
        "rosservice info /name_of_the_service"
      ],
      "execution_count": null,
      "outputs": []
    },
    {
      "cell_type": "code",
      "metadata": {
        "id": "ubYrRiuWZoNy"
      },
      "source": [
        "rossrv show name_of_the_package/Name_of_Service_message"
      ],
      "execution_count": null,
      "outputs": []
    },
    {
      "cell_type": "code",
      "metadata": {
        "id": "awfyX-9XZqjc"
      },
      "source": [
        "rosservice info /trajectory_by_name"
      ],
      "execution_count": null,
      "outputs": []
    },
    {
      "cell_type": "markdown",
      "metadata": {
        "id": "ocZD_EINebo4"
      },
      "source": [
        "\n",
        "\n",
        "```\n",
        "Node: /traj_by_name_node\n",
        "URI: rosrpc://rosdscomputer:38301\n",
        "Type: trajectory_by_name_srv/TrajByName\n",
        "Args: traj_name\n",
        "```\n",
        "\n"
      ]
    },
    {
      "cell_type": "code",
      "metadata": {
        "id": "dUMIEdvAeazC"
      },
      "source": [
        "rossrv show trajectory_by_name_srv/TrajByName"
      ],
      "execution_count": null,
      "outputs": []
    },
    {
      "cell_type": "markdown",
      "metadata": {
        "id": "hqvKZoD5ehEx"
      },
      "source": [
        "\n",
        "\n",
        "```\n",
        "user catkin_ws $ rossrv show trajectory_by_name_srv/TrajByName\n",
        "string traj_name\n",
        "---\n",
        "bool success\n",
        "string status_message\n",
        "```\n",
        "\n"
      ]
    },
    {
      "cell_type": "markdown",
      "metadata": {
        "id": "6ALPhHbKerpG"
      },
      "source": [
        "**1. Service messages have the extension .srv. Remember that Topic messages have the extension .msg**\n",
        "\n",
        "**2. Service messages are defined inside a srv directory instead of a msg directory.**"
      ]
    },
    {
      "cell_type": "code",
      "metadata": {
        "id": "vbpYHLZXe2uh"
      },
      "source": [
        "roscd trajectory_by_name_srv; ls srv"
      ],
      "execution_count": null,
      "outputs": []
    },
    {
      "cell_type": "markdown",
      "metadata": {
        "id": "cjB-t4eme5Bv"
      },
      "source": [
        "**3- Service messages have TWO parts:**\n"
      ]
    },
    {
      "cell_type": "markdown",
      "metadata": {
        "id": "ZE3MWh8Ce83f"
      },
      "source": [
        "\n",
        "\n",
        "```\n",
        "**REQUEST**\n",
        "\n",
        "\n",
        "---\n",
        "\n",
        "**RESPONSE**\n",
        "```\n",
        "\n"
      ]
    }
  ]
}