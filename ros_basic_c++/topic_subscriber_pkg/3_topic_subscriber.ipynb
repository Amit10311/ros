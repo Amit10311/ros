{
  "nbformat": 4,
  "nbformat_minor": 0,
  "metadata": {
    "colab": {
      "name": "3_topic_subscriber",
      "provenance": [],
      "collapsed_sections": []
    },
    "kernelspec": {
      "name": "python3",
      "display_name": "Python 3"
    }
  },
  "cells": [
    {
      "cell_type": "markdown",
      "metadata": {
        "id": "4nRsicWdswsm",
        "colab_type": "text"
      },
      "source": [
        "[link ros msg](http://wiki.ros.org/msg)"
      ]
    },
    {
      "cell_type": "markdown",
      "metadata": {
        "id": "7-JskVd6s9i5",
        "colab_type": "text"
      },
      "source": [
        "[Writing a Simple Publisher and Subscriber (C++)](http://wiki.ros.org/ROS/Tutorials/WritingPublisherSubscriber%28c%2B%2B%29)"
      ]
    },
    {
      "cell_type": "markdown",
      "metadata": {
        "id": "cOEB6Z_qtPB2",
        "colab_type": "text"
      },
      "source": [
        "[Examining the Simple Publisher and Subscriber\n",
        "](http://wiki.ros.org/ROS/Tutorials/ExaminingPublisherSubscriber)"
      ]
    },
    {
      "cell_type": "markdown",
      "metadata": {
        "id": "91qAirUV4CR0",
        "colab_type": "text"
      },
      "source": [
        "# **Exercise 2.1**\n",
        "\n"
      ]
    },
    {
      "cell_type": "markdown",
      "metadata": {
        "id": "ms2RqwqO4eBl",
        "colab_type": "text"
      },
      "source": [
        "1. Create a new package named **topic_subscriber_pkg**. When creating the package, add as dependencies roscpp and std_msgs.\n",
        "\n",
        "2. Inside the src folder of the package, create a new file named **simple_topic_subscriber**.cpp. Inside this file, copy the contents of **simple_topic_subscriber**.cpp\n",
        "\n",
        "3. Create a launch file for launching this code.\n",
        "\n",
        "4. Do the necessary modifications to your **CMakeLists**.txt file, and compile the package.\n",
        "\n",
        "5. Execute the launch file to run your executable."
      ]
    },
    {
      "cell_type": "code",
      "metadata": {
        "id": "ftVmtf0j5Btc",
        "colab_type": "code",
        "colab": {}
      },
      "source": [
        "catkin_create_pkg topic_subscriber_pkg roscpp std_msgs"
      ],
      "execution_count": null,
      "outputs": []
    },
    {
      "cell_type": "markdown",
      "metadata": {
        "id": "ay01ylnW5Aj8",
        "colab_type": "text"
      },
      "source": [
        "**C++ Program {2.2}: simple_topic_subscriber.cpp**\n",
        "\n"
      ]
    },
    {
      "cell_type": "code",
      "metadata": {
        "id": "eV3IXDq65JwR",
        "colab_type": "code",
        "colab": {}
      },
      "source": [
        "#include <ros/ros.h>\n",
        "#include <std_msgs/Int32.h>\n",
        "\n",
        "void counterCallback(const std_msgs::Int32::ConstPtr& msg)\n",
        "{\n",
        "  ROS_INFO(\"%d\", msg->data);\n",
        "}\n",
        "\n",
        "int main(int argc, char** argv) {\n",
        "\n",
        "    ros::init(argc, argv, \"topic_subscriber\");    // node name\n",
        "    ros::NodeHandle nh;                            // node \n",
        "    \n",
        "    ros::Subscriber sub = nh.subscribe(\"counter\", 1000, counterCallback);   // topic subscriber \n",
        "    \n",
        "    ros::spin();                  // call back \n",
        "    \n",
        "    return 0;\n",
        "}"
      ],
      "execution_count": null,
      "outputs": []
    },
    {
      "cell_type": "code",
      "metadata": {
        "id": "12OSTGAt7sRq",
        "colab_type": "code",
        "colab": {}
      },
      "source": [
        "add_executable(simple_topic_subscriber src/simple_topic_subscriber.cpp)\n",
        "\n",
        "add_dependencies(simple_topic_subscriber \n",
        "                 ${simple_topic_subscriber_EXPORTED_TARGETS} ${catkin_EXPORTED_TARGETS})\n",
        "\n",
        "target_link_libraries(simple_topic_subscriber\n",
        "   ${catkin_LIBRARIES}\n",
        " )"
      ],
      "execution_count": null,
      "outputs": []
    },
    {
      "cell_type": "code",
      "metadata": {
        "id": "F7v2f8Sl5ZeQ",
        "colab_type": "code",
        "colab": {}
      },
      "source": [
        "rostopic echo /counter"
      ],
      "execution_count": null,
      "outputs": []
    },
    {
      "cell_type": "code",
      "metadata": {
        "id": "29fR17OX5WzD",
        "colab_type": "code",
        "colab": {}
      },
      "source": [
        "rostopic pub <topic_name> <message_type> <value>"
      ],
      "execution_count": null,
      "outputs": []
    },
    {
      "cell_type": "code",
      "metadata": {
        "id": "XwOT41-b8yJv",
        "colab_type": "code",
        "colab": {}
      },
      "source": [
        "rostopic pub /counter std_msgs/Int32 5"
      ],
      "execution_count": null,
      "outputs": []
    },
    {
      "cell_type": "code",
      "metadata": {
        "id": "0gIbsYKZ80cP",
        "colab_type": "code",
        "colab": {}
      },
      "source": [
        "user ~ $ rostopic echo /counter\n",
        "WARNING: no messages received and simulated time is active.\n",
        "Is /clock being published?\n",
        "data:\n",
        "5"
      ],
      "execution_count": null,
      "outputs": []
    },
    {
      "cell_type": "code",
      "metadata": {
        "id": "hiJvnDc784f3",
        "colab_type": "code",
        "colab": {}
      },
      "source": [
        "#include <ros/ros.h>\n",
        "#include <std_msgs/Int32.h>\n",
        "\n",
        "void counterCallback(const std_msgs::Int32::ConstPtr& msg)                        // Define a function called 'callback' that receives a                           // parameter named 'msg' \n",
        "{\n",
        "  ROS_INFO(\"%d\", msg->data);                                                      // Print the value 'data' inside the 'msg' parameter\n",
        "}\n",
        "\n",
        "int main(int argc, char** argv) {\n",
        "\n",
        "    ros::init(argc, argv, \"topic_subscriber\");                                    // Initiate a Node called 'topic_subscriber'\n",
        "    ros::NodeHandle nh;\n",
        "    \n",
        "    ros::Subscriber sub = nh.subscribe(\"counter\", 1000, counterCallback);        // Create a Subscriber object that will              // listen to the /counter topic and will\n",
        "                                                                                  // call the 'callback' function each time                                                                            \n",
        "                                                                                 // it reads something from the topic\n",
        "    \n",
        "    ros::spin(); // Create a loop that will keep the program in execution\n",
        "    \n",
        "    return 0;\n",
        "}"
      ],
      "execution_count": null,
      "outputs": []
    },
    {
      "cell_type": "markdown",
      "metadata": {
        "id": "0RAuiW2DBtGb",
        "colab_type": "text"
      },
      "source": [
        "# Solution Exercise 2.4\n"
      ]
    },
    {
      "cell_type": "markdown",
      "metadata": {
        "id": "FMFhW08UBwm2",
        "colab_type": "text"
      },
      "source": [
        "**Launch File: odom_subscriber.launch**\n",
        "\n"
      ]
    },
    {
      "cell_type": "code",
      "metadata": {
        "id": "sROqTad7BwZP",
        "colab_type": "code",
        "colab": {}
      },
      "source": [
        "<launch>\n",
        "    <node pkg=\"topics_24\" type=\"odom_subscriber\" name=\"odom_sub_node\" output=\"screen\" />\n",
        "</launch>"
      ],
      "execution_count": null,
      "outputs": []
    },
    {
      "cell_type": "markdown",
      "metadata": {
        "id": "mnW9f8YLB1TU",
        "colab_type": "text"
      },
      "source": [
        "**C++ File: odom_subscriber.cpp**\n",
        "\n"
      ]
    },
    {
      "cell_type": "code",
      "metadata": {
        "id": "sUlJxpvlB4OU",
        "colab_type": "code",
        "colab": {}
      },
      "source": [
        "#include <ros/ros.h>\n",
        "#include <nav_msgs/Odometry.h>\n",
        "\n",
        "void counterCallback(const nav_msgs::Odometry::ConstPtr& msg)               // Define a function called 'callback' that receives a \n",
        "{\n",
        "  ROS_INFO(\"%s\", msg->header.frame_id.c_str());                            // Print the value 'data' inside the 'msg' parameter\n",
        "  //ROS_INFO(\"%f\", msg->twist.twist.linear.x);\n",
        "  //ROS_INFO(\"%f\", msg->pose.pose.position.x);\n",
        "}\n",
        "\n",
        "int main(int argc, char** argv) {\n",
        "\n",
        "    ros::init(argc, argv, \"odom_sub_node\");    // topic name \n",
        "    ros::NodeHandle nh;                        // node \n",
        "    \n",
        "    ros::Subscriber sub = nh.subscribe(\"odom\", 1000, counterCallback);   // \n",
        "    \n",
        "    ros::spin();\n",
        "    \n",
        "    return 0;\n",
        "}"
      ],
      "execution_count": null,
      "outputs": []
    },
    {
      "cell_type": "code",
      "metadata": {
        "id": "k7XOmJIbDcII",
        "colab_type": "code",
        "colab": {}
      },
      "source": [
        "add_executable(odom_subscriber src/odom_subscriber.cpp)\n",
        "\n",
        "add_dependencies(odom_subscriber ${odom_subscriber_EXPORTED_TARGETS} ${catkin_EXPORTED_TARGETS})\n",
        "\n",
        "target_link_libraries(odom_subscriber\n",
        "   ${catkin_LIBRARIES}\n",
        " )"
      ],
      "execution_count": null,
      "outputs": []
    },
    {
      "cell_type": "code",
      "metadata": {
        "id": "TA94so5WVOlZ",
        "colab_type": "code",
        "colab": {}
      },
      "source": [
        "rostopic echo /odom -n1"
      ],
      "execution_count": null,
      "outputs": []
    },
    {
      "cell_type": "code",
      "metadata": {
        "id": "8lt9fQbtsWjD",
        "colab_type": "code",
        "colab": {}
      },
      "source": [
        "rostopic echo /odom -n1\n",
        "header:\n",
        "  seq: 14895\n",
        "  stamp:\n",
        "    secs: 744\n",
        "    nsecs: 935000000\n",
        "  frame_id: \"odom\"\n",
        "child_frame_id: \"base_footprint\"\n",
        "pose:\n",
        "  pose:\n",
        "    position:\n",
        "      x: 0.00666789431225\n",
        "      y: 0.000108330225346\n",
        "      z: -0.000247301957315\n",
        "    orientation:\n",
        "      x: 0.000389247695211\n",
        "      y: -0.00720422454465\n",
        "      z: 0.00035420377466\n",
        "      w: 0.999973910747\n",
        "  covariance: [1e-05, 0.0, 0.0, 0.0, 0.0, 0.0, 0.0, 1e-05, 0.0, 0.0, 0.0, 0.0, 0.0, 0.0, 1000000000000.0, 0.0, 0.0, 0.0, 0.0, 0.0, 0.0, 1000000000000.0, 0.0, 0.0, 0.0, 0.0, 0.0, 0.0, 1000000000000.0, 0.0, 0.0, 0.0, 0.0, 0.0, 0.0, 0.001]\n",
        "twist:\n",
        "  twist:\n",
        "    linear:\n",
        "      x: -0.000160622481599\n",
        "      y: -0.000262771315155\n",
        "      z: 0.0\n",
        "    angular:\n",
        "      x: 0.0\n",
        "      y: 0.0\n",
        "      z: 0.000284971686946\n",
        "  covariance: [0.0, 0.0, 0.0, 0.0, 0.0, 0.0, 0.0, 0.0, 0.0, 0.0, 0.0, 0.0, 0.0, 0.0, 0.0, 0.0, 0.0, 0.0, 0.0, 0.0, 0.0, 0.0, 0.0, 0.0, 0.0, 0.0, 0.0, 0.0, 0.0, 0.0, 0.0, 0.0, 0.0, 0.0, 0.0, 0.0]\n",
        "---"
      ],
      "execution_count": null,
      "outputs": []
    },
    {
      "cell_type": "code",
      "metadata": {
        "id": "fzJwggmuVQSF",
        "colab_type": "code",
        "colab": {}
      },
      "source": [
        "rosmsg show nav_msgs/Odometry"
      ],
      "execution_count": null,
      "outputs": []
    },
    {
      "cell_type": "markdown",
      "metadata": {
        "id": "4YZyr5LeVZWe",
        "colab_type": "text"
      },
      "source": [
        "# Solution Exercise 2.5\n"
      ]
    },
    {
      "cell_type": "code",
      "metadata": {
        "id": "zApxZEVpVbmu",
        "colab_type": "code",
        "colab": {}
      },
      "source": [
        "roscd topics_25\n",
        "mkdir msg"
      ],
      "execution_count": null,
      "outputs": []
    },
    {
      "cell_type": "markdown",
      "metadata": {
        "id": "zrI_wMSWVeZ0",
        "colab_type": "text"
      },
      "source": [
        "**Message File: Age.msg**\n",
        "\n"
      ]
    },
    {
      "cell_type": "code",
      "metadata": {
        "id": "7NLx0oWoVdGI",
        "colab_type": "code",
        "colab": {}
      },
      "source": [
        "float32 years\n",
        "float32 months\n",
        "float32 days"
      ],
      "execution_count": null,
      "outputs": []
    },
    {
      "cell_type": "markdown",
      "metadata": {
        "id": "EJeqr3lsVhyO",
        "colab_type": "text"
      },
      "source": [
        "**CMakeLists.txt**\n",
        "\n"
      ]
    },
    {
      "cell_type": "code",
      "metadata": {
        "id": "4xO5PIz4Vjym",
        "colab_type": "code",
        "colab": {}
      },
      "source": [
        "cmake_minimum_required(VERSION 2.8.3)\n",
        "project(topics_25)\n",
        "\n",
        "## Here go all the packages needed to COMPILE the messages of topic, services and actions.\n",
        "## Its only geting its paths, and not really importing them to be used in the compilation.\n",
        "## Its only for further functions in CMakeLists.txt to be able to find those packages.\n",
        "## In package.xml you have to state them as build\n",
        "find_package(catkin REQUIRED COMPONENTS\n",
        "  roscpp\n",
        "  std_msgs\n",
        "  message_generation\n",
        ")\n",
        "\n",
        "## Generate topic messages in the 'msg' folder\n",
        "## In this function will be placed all the topic messages files of this package ( in the msg folder ) to be compiled.\n",
        "add_message_files(\n",
        "  FILES\n",
        "  Age.msg\n",
        ")\n",
        "\n",
        "## Here is where the packages needed for the topic messages compilation are imported.\n",
        "generate_messages(\n",
        "  DEPENDENCIES\n",
        "  std_msgs\n",
        ")\n",
        "\n",
        "## State here all the packages that will be needed by someone that executes something from your package.\n",
        "## All the packages stated here must be in the package.xml as exec_depend\n",
        "catkin_package(\n",
        "  CATKIN_DEPENDS roscpp std_msgs message_runtime\n",
        ")\n",
        "\n",
        "include_directories(\n",
        "  ${catkin_INCLUDE_DIRS}\n",
        ")"
      ],
      "execution_count": null,
      "outputs": []
    },
    {
      "cell_type": "markdown",
      "metadata": {
        "id": "8gXqRIrZVmCq",
        "colab_type": "text"
      },
      "source": [
        "**package.xml**\n",
        "\n"
      ]
    },
    {
      "cell_type": "code",
      "metadata": {
        "id": "Z4i8A9gvVn4n",
        "colab_type": "code",
        "colab": {}
      },
      "source": [
        "<?xml version=\"1.0\"?>\n",
        "<package format=\"2\">\n",
        "  <name>topics_25</name>\n",
        "  <version>0.0.0</version>\n",
        "  <description>The topics_25 package</description>\n",
        "\n",
        "\n",
        "  <maintainer email=\"user@todo.todo\">user</maintainer>\n",
        "\n",
        "  <license>TODO</license>\n",
        "\n",
        "   <build_export_depend>message_generation</build_export_depend> \n",
        "   <build_depend>message_generation</build_depend>\n",
        "\n",
        "  <buildtool_depend>catkin</buildtool_depend>\n",
        "  <build_depend>roscpp</build_depend>\n",
        "  <build_depend>std_msgs</build_depend>\n",
        "  <build_export_depend>roscpp</build_export_depend>\n",
        "  <exec_depend>roscpp</exec_depend>\n",
        "  <build_export_depend>std_msgs</build_export_depend>\n",
        "  <exec_depend>std_msgs</exec_depend>\n",
        "  \n",
        "  <build_export_depend>message_runtime</build_export_depend>\n",
        "  <exec_depend>message_runtime</exec_depend>\n",
        "\n",
        "  <export>\n",
        "\n",
        "  </export>\n",
        "</package>"
      ],
      "execution_count": null,
      "outputs": []
    },
    {
      "cell_type": "code",
      "metadata": {
        "id": "-cPKJgW1Vuo7",
        "colab_type": "code",
        "colab": {}
      },
      "source": [
        "roscd\n",
        "cd ..\n",
        "catkin_make\n",
        "source devel/setup.bash"
      ],
      "execution_count": null,
      "outputs": []
    },
    {
      "cell_type": "code",
      "metadata": {
        "id": "gZxeI5OqVt8c",
        "colab_type": "code",
        "colab": {}
      },
      "source": [
        "rosmsg list | grep Age"
      ],
      "execution_count": null,
      "outputs": []
    },
    {
      "cell_type": "code",
      "metadata": {
        "id": "UhOJ8arMVxWl",
        "colab_type": "code",
        "colab": {}
      },
      "source": [
        "topics_25/Age"
      ],
      "execution_count": null,
      "outputs": []
    },
    {
      "cell_type": "code",
      "metadata": {
        "id": "r6_VmWnkVzJn",
        "colab_type": "code",
        "colab": {}
      },
      "source": [
        "<launch>\n",
        "    <node pkg=\"topics_25\" type=\"publish_age\" name=\"publish_age_node\" output=\"screen\" />\n",
        "</launch>"
      ],
      "execution_count": null,
      "outputs": []
    },
    {
      "cell_type": "markdown",
      "metadata": {
        "id": "oWznOifYV3HA",
        "colab_type": "text"
      },
      "source": [
        "**C++ File: publish_age.cpp**\n",
        "\n"
      ]
    },
    {
      "cell_type": "code",
      "metadata": {
        "id": "lKWd76TLV1EX",
        "colab_type": "code",
        "colab": {}
      },
      "source": [
        "#include <ros/ros.h>\n",
        "#include <topics_25/Age.h>\n",
        "\n",
        "int main(int argc, char** argv) {\n",
        "\n",
        "    ros::init(argc, argv, \"publish_age_node\");\n",
        "    ros::NodeHandle nh;\n",
        "    \n",
        "    ros::Publisher pub = nh.advertise<topics_25::Age>(\"age_info\", 1000);\n",
        "    ros::Rate loop_rate(2);\n",
        "    \n",
        "    topics_25::Age age;\n",
        "    age.years = 5;\n",
        "    age.months = 10;\n",
        "    age.days = 21;\n",
        "    \n",
        "    while (ros::ok())\n",
        "    {\n",
        "        pub.publish(age);\n",
        "        ros::spinOnce();\n",
        "        loop_rate.sleep();\n",
        "    }\n",
        "    \n",
        "    return 0;\n",
        "}"
      ],
      "execution_count": null,
      "outputs": []
    },
    {
      "cell_type": "markdown",
      "metadata": {
        "id": "dSYPsGAbWa4j",
        "colab_type": "text"
      },
      "source": [
        "As always, you'll need to add the following lines to your CMakeLists.txt file:\n",
        "\n"
      ]
    },
    {
      "cell_type": "code",
      "metadata": {
        "id": "pZ_Qdfa_WUeL",
        "colab_type": "code",
        "colab": {}
      },
      "source": [
        "add_executable(publish_age src/publish_age.cpp)\n",
        "\n",
        "add_dependencies(publish_age\n",
        "                 ${publish_age_EXPORTED_TARGETS} ${catkin_EXPORTED_TARGETS})\n",
        "\n",
        "target_link_libraries(publish_age\n",
        "   ${catkin_LIBRARIES}\n",
        " )\n",
        "\n",
        "add_dependencies(publish_age topics_25_generate_messages_cpp)"
      ],
      "execution_count": null,
      "outputs": []
    },
    {
      "cell_type": "code",
      "metadata": {
        "id": "sw6F1V6oWdSW",
        "colab_type": "code",
        "colab": {}
      },
      "source": [
        "roslaunch topics_25 publish_age.launch"
      ],
      "execution_count": null,
      "outputs": []
    },
    {
      "cell_type": "code",
      "metadata": {
        "id": "9hRBhNV2WfTY",
        "colab_type": "code",
        "colab": {}
      },
      "source": [
        "rostopic echo /age_info"
      ],
      "execution_count": null,
      "outputs": []
    }
  ]
}