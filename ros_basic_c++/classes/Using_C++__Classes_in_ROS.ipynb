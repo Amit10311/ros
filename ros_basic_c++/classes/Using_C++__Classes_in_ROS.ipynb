{
  "nbformat": 4,
  "nbformat_minor": 0,
  "metadata": {
    "colab": {
      "name": "Using_C++ _Classes_in_ROS.ipynb",
      "provenance": [],
      "collapsed_sections": []
    },
    "kernelspec": {
      "name": "python3",
      "display_name": "Python 3"
    }
  },
  "cells": [
    {
      "cell_type": "markdown",
      "metadata": {
        "id": "NywBNic8vRUb",
        "colab_type": "text"
      },
      "source": [
        "[c++ classes](http://www.cplusplus.com/doc/tutorial/classes/)"
      ]
    },
    {
      "cell_type": "code",
      "metadata": {
        "id": "GM-uqZYrwH5c",
        "colab_type": "code",
        "colab": {}
      },
      "source": [
        "catkin_create_pkg classes roscpp std_msgs"
      ],
      "execution_count": null,
      "outputs": []
    },
    {
      "cell_type": "markdown",
      "metadata": {
        "id": "ZuT_3oiXty2P",
        "colab_type": "text"
      },
      "source": [
        "## **C++ File: jedi_class.cpp**\n",
        "\n"
      ]
    },
    {
      "cell_type": "code",
      "metadata": {
        "id": "T_jMrLfIwJc8",
        "colab_type": "code",
        "colab": {}
      },
      "source": [
        "#include <string>\n",
        "#include <iostream>\n",
        "\n",
        "using namespace std;\n",
        "\n",
        "class Jedi\n",
        "{\n",
        "    public:\n",
        "        string name;       // 1 defining a public attribute\n",
        "     \n",
        "    Jedi(string n)        //2  constructor \n",
        "    {\n",
        "        name = n;\n",
        "    }\n",
        "\n",
        "    void say_hi()             // 3 member function \n",
        "    {\n",
        "        cout << \"Hello, my name is \" << name << \"\\n\";\n",
        "    }\n",
        "};\n",
        "\n",
        "int main(int argc, char** argv)        // main \n",
        "{ \n",
        "    Jedi j(\"ObiWan\");\n",
        "    j.say_hi();\n",
        "    return 0;\n",
        "}"
      ],
      "execution_count": null,
      "outputs": []
    },
    {
      "cell_type": "markdown",
      "metadata": {
        "id": "etX5ykeJwTT-",
        "colab_type": "text"
      },
      "source": [
        "This is the constructor of the class. It is named like this because it will be called as soon as an object of the class is created.\n",
        " * It is usually used for the initialization of the attributes. In this case, we are initializing an attribute of the class, which is the name of the Jedi."
      ]
    },
    {
      "cell_type": "code",
      "metadata": {
        "id": "bHdhRKrrwVNU",
        "colab_type": "code",
        "colab": {}
      },
      "source": [
        "Jedi(string n)\n",
        "{\n",
        "    name = n;\n",
        "}"
      ],
      "execution_count": null,
      "outputs": []
    },
    {
      "cell_type": "markdown",
      "metadata": {
        "id": "Ja_p7TpBw-Mx",
        "colab_type": "text"
      },
      "source": [
        "## **C++ File: bb8_move_circle_class.cpp**\n",
        "\n"
      ]
    },
    {
      "cell_type": "code",
      "metadata": {
        "id": "kB8j2MyHwV8u",
        "colab_type": "code",
        "colab": {}
      },
      "source": [
        "#include <ros/ros.h>\n",
        "#include <geometry_msgs/Twist.h>\n",
        "#include <std_srvs/Empty.h>\n",
        "\n",
        "class MoveBB8\n",
        "{\n",
        "  \n",
        "    public:\n",
        "\n",
        "                                            //1  ROS Objects\n",
        "        ros::NodeHandle nh_;\n",
        "\n",
        "                                            //1  ROS Services\n",
        "        ros::ServiceServer my_service;\n",
        "\n",
        "                                            //1 ROS Publishers\n",
        "        ros::Publisher vel_pub;\n",
        "    \n",
        "                                            //1 ROS Messages\n",
        "        geometry_msgs::Twist vel_msg;\n",
        "  \n",
        "        MoveBB8()                           //2  Constructor \n",
        "        {\n",
        "            my_service = nh_.advertiseService(\"/move_bb8_in_circle\", &MoveBB8::my_callback, this);\n",
        "            ROS_INFO(\"The Service /move_bb8_in_circle is READY\");\n",
        "            vel_pub = nh_.advertise<geometry_msgs::Twist>(\"/cmd_vel\", 1);\n",
        "        }\n",
        "        \n",
        "        void move_in_circle()                       //3.1  memeber function \n",
        "        {\n",
        "            vel_msg.linear.x = 0.2;\n",
        "            vel_msg.angular.z = 0.2;\n",
        "            vel_pub.publish(vel_msg);\n",
        "        }\n",
        " \n",
        "                                                     //3.2 memeber callback  function \n",
        "        bool my_callback(std_srvs::Empty::Request &req,       \n",
        "                        std_srvs::Empty::Response &res)\n",
        "        {\n",
        "            ROS_INFO(\"The Service /move_bb8_in_circle has been called\");\n",
        "         \n",
        "            move_in_circle();        \n",
        "         \n",
        "            ROS_INFO(\"Finished service /move_bb8_in_circle\");\n",
        "            return true;\n",
        "        }\n",
        "    \n",
        "};\n",
        "\n",
        "int main(int argc, char** argv)\n",
        "{\n",
        "  ros::init(argc, argv, \"move_bb8_node\");\n",
        "  \n",
        "  MoveBB8 moveBB8;\n",
        "\n",
        "  ros::spin();\n",
        "  \n",
        "  return 0;\n",
        "}"
      ],
      "execution_count": null,
      "outputs": []
    },
    {
      "cell_type": "code",
      "metadata": {
        "id": "iTj5J12Yx3i0",
        "colab_type": "code",
        "colab": {}
      },
      "source": [
        "public:\n",
        "    \n",
        "    // ROS Objects\n",
        "    ros::NodeHandle nh_;\n",
        "\n",
        "    // ROS Services\n",
        "    ros::ServiceServer my_service;\n",
        "\n",
        "    // ROS Publishers\n",
        "    ros::Publisher vel_pub;\n",
        "\n",
        "    // ROS Messages\n",
        "    geometry_msgs::Twist vel_msg;"
      ],
      "execution_count": null,
      "outputs": []
    },
    {
      "cell_type": "markdown",
      "metadata": {
        "id": "d0_EoZADx5cz",
        "colab_type": "text"
      },
      "source": [
        "We are defining all the elements we need as public attributes of the **MoveBB8** class.\n",
        " * These are:\n",
        "\n",
        "1. A ROS node handler\n",
        "2. A ROS Service\n",
        "3. A ROS Publisher\n",
        "4. A ROS Message of the type Twist"
      ]
    },
    {
      "cell_type": "code",
      "metadata": {
        "id": "ih5wO4mnyBgf",
        "colab_type": "code",
        "colab": {}
      },
      "source": [
        "MoveBB8()\n",
        "{\n",
        "    my_service = nh_.advertiseService(\"/move_bb8_in_circle\", &MoveBB8::my_callback, this);\n",
        "    ROS_INFO(\"The Service /move_bb8_in_circle is READY\");\n",
        " \n",
        "    vel_pub = nh_.advertise<geometry_msgs::Twist>(\"/cmd_vel\", 1);\n",
        "}"
      ],
      "execution_count": null,
      "outputs": []
    },
    {
      "cell_type": "markdown",
      "metadata": {
        "id": "wAEFtsSSyDaa",
        "colab_type": "text"
      },
      "source": [
        "This is the **constructor of the class**. Here we are initializing a couple of attributes:\n",
        "\n",
        "* **my_service**: We create a ROS Service named /move_bb8_in_circle, connected to a callback function named my_callback.\n",
        "* **vel_pub**: We create a Publisher for the /cmd_vel topic."
      ]
    },
    {
      "cell_type": "code",
      "metadata": {
        "id": "sMN9oIFMy5na",
        "colab_type": "code",
        "colab": {}
      },
      "source": [
        "bool my_callback(std_srvs::Empty::Request &req,\n",
        "                std_srvs::Empty::Response &res)\n",
        "{\n",
        "    ROS_INFO(\"The Service /move_bb8_in_circle has been called\");\n",
        "    move_in_circle();\n",
        "    ROS_INFO(\"Finished service /move_bb8_in_circle\");\n",
        "    return true;\n",
        "}"
      ],
      "execution_count": null,
      "outputs": []
    },
    {
      "cell_type": "markdown",
      "metadata": {
        "id": "csDrOEkUyt--",
        "colab_type": "text"
      },
      "source": [
        "Finally, in the main function, we are doing three things:\n",
        "\n",
        "1. We create a ROS node named **move_bb8_node**.\n",
        "2. We create an object of the MoveBB8 class, which is stored in a variable named **moveBB8**.\n",
        "3. We spin our **ROS node forever**, so that the Service will be available until someone stops our program."
      ]
    },
    {
      "cell_type": "code",
      "metadata": {
        "id": "JIBWXV2TzIIH",
        "colab_type": "code",
        "colab": {}
      },
      "source": [
        "add_executable(bb8_move_circle_class src/bb8_move_circle_class.cpp)\n",
        "\n",
        "add_dependencies(bb8_move_circle_class\n",
        "                 ${bb8_move_circle_class_EXPORTED_TARGETS} ${catkin_EXPORTED_TARGETS})\n",
        "\n",
        "target_link_libraries(bb8_move_circle_class\n",
        "   ${catkin_LIBRARIES}\n",
        " )"
      ],
      "execution_count": null,
      "outputs": []
    },
    {
      "cell_type": "code",
      "metadata": {
        "id": "iLZ9xfdQzNE2",
        "colab_type": "code",
        "colab": {}
      },
      "source": [
        "<launch>\n",
        "    <!-- Start Service Server for move_bb8_in_circle service -->\n",
        "    <node pkg=\"classes\" type=\"bb8_move_circle_class\" name=\"move_bb8_node\"  output=\"screen\">\n",
        "    </node>\n",
        "</launch>"
      ],
      "execution_count": null,
      "outputs": []
    },
    {
      "cell_type": "code",
      "metadata": {
        "id": "-3ijhC-ezzac",
        "colab_type": "code",
        "colab": {}
      },
      "source": [
        "roslaunch classes bb8_move_circle_class.launch"
      ],
      "execution_count": null,
      "outputs": []
    },
    {
      "cell_type": "code",
      "metadata": {
        "id": "ye_4lvGKz23Y",
        "colab_type": "code",
        "colab": {}
      },
      "source": [
        "rosservice list | grep move_bb8_in_circle"
      ],
      "execution_count": null,
      "outputs": []
    },
    {
      "cell_type": "code",
      "metadata": {
        "id": "xoR8Yyr3z5H1",
        "colab_type": "code",
        "colab": {}
      },
      "source": [
        "rosservice call /move_bb8_in_circle \"{}\""
      ],
      "execution_count": null,
      "outputs": []
    },
    {
      "cell_type": "markdown",
      "metadata": {
        "id": "byv25n2C0DBf",
        "colab_type": "text"
      },
      "source": [
        "## **C++ Program: bb8_move_circle_class.cpp**\n",
        "\n"
      ]
    },
    {
      "cell_type": "code",
      "metadata": {
        "id": "Tda1C6TGz8tQ",
        "colab_type": "code",
        "colab": {}
      },
      "source": [
        "#include <ros/ros.h>\n",
        "#include <geometry_msgs/Twist.h>\n",
        "#include <my_custom_srv_msg_pkg/MyCustomServiceMessage.h>\n",
        "\n",
        "class MoveBB8\n",
        "{\n",
        "  \n",
        "    public:\n",
        "\n",
        "        // ROS Objects\n",
        "        ros::NodeHandle nh_;\n",
        "\n",
        "        // ROS Services\n",
        "        ros::ServiceServer my_service;\n",
        "\n",
        "        // ROS Publishers\n",
        "        ros::Publisher vel_pub;\n",
        "    \n",
        "        // ROS Messages\n",
        "        geometry_msgs::Twist vel_msg;\n",
        "  \n",
        "        MoveBB8()\n",
        "        {\n",
        "            my_service = nh_.advertiseService(\"/move_bb8_in_circle\", &MoveBB8::my_callback, this);\n",
        "            ROS_INFO(\"The Service /move_bb8_in_circle is READY\");\n",
        "            vel_pub = nh_.advertise<geometry_msgs::Twist>(\"/cmd_vel\", 1);\n",
        "        }\n",
        "        \n",
        "        void move_in_circle()\n",
        "        {\n",
        "            vel_msg.linear.x = 0.2;\n",
        "            vel_msg.angular.z = 0.2;\n",
        "            vel_pub.publish(vel_msg);\n",
        "        }\n",
        "    \n",
        "        void stop()\n",
        "        {\n",
        "            vel_msg.linear.x = 0;\n",
        "            vel_msg.angular.z = 0;\n",
        "            vel_pub.publish(vel_msg);\n",
        "        }\n",
        "        \n",
        "        bool my_callback(my_custom_srv_msg_pkg::MyCustomServiceMessage::Request &req,\n",
        "                         my_custom_srv_msg_pkg::MyCustomServiceMessage::Response &res)\n",
        "        {\n",
        "            ROS_INFO(\"The Service /move_bb8_in_circle has been called\");\n",
        "            int i = 0;\n",
        "            while (i < req.duration)\n",
        "              {\n",
        "                  move_in_circle();\n",
        "                  usleep(1000000); // We set 1000000 because the time is set in microseconds\n",
        "                  i++;\n",
        "              }\n",
        "            stop();\n",
        "            res.success = true;\n",
        "            ROS_INFO(\"Finished service /move_bb8_in_circle\");\n",
        "            return true;\n",
        "        }\n",
        "    \n",
        "};\n",
        "\n",
        "int main(int argc, char** argv)\n",
        "{\n",
        "  ros::init(argc, argv, \"move_bb8_node\");\n",
        "  \n",
        "  MoveBB8 moveBB8;\n",
        "\n",
        "  ros::spin();\n",
        "  \n",
        "  return 0;\n",
        "}"
      ],
      "execution_count": null,
      "outputs": []
    },
    {
      "cell_type": "code",
      "metadata": {
        "id": "UMg0dUNq0Qd9",
        "colab_type": "code",
        "colab": {}
      },
      "source": [
        "find_package(catkin REQUIRED COMPONENTS\n",
        "  roscpp\n",
        "  my_custom_srv_msg_pkg\n",
        ")"
      ],
      "execution_count": null,
      "outputs": []
    },
    {
      "cell_type": "code",
      "metadata": {
        "id": "vheKxoRQ0SKW",
        "colab_type": "code",
        "colab": {}
      },
      "source": [
        "rosservice call /move_bb8_in_circle [TAB]+[TAB]"
      ],
      "execution_count": null,
      "outputs": []
    }
  ]
}