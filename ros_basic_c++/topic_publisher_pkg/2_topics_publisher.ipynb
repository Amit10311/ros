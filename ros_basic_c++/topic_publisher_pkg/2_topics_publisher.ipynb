{
  "nbformat": 4,
  "nbformat_minor": 0,
  "metadata": {
    "colab": {
      "name": "2_topics_publisher.ipynb",
      "provenance": [],
      "collapsed_sections": []
    },
    "kernelspec": {
      "name": "python3",
      "display_name": "Python 3"
    }
  },
  "cells": [
    {
      "cell_type": "code",
      "metadata": {
        "id": "7rG8ups8aWzi",
        "colab_type": "code",
        "colab": {}
      },
      "source": [
        "catkin_create_pkg my_package roscpp\n"
      ],
      "execution_count": null,
      "outputs": []
    },
    {
      "cell_type": "markdown",
      "metadata": {
        "id": "aCdrnbMobUCF",
        "colab_type": "text"
      },
      "source": [
        "# **Exercise 2.1**\n",
        "\n"
      ]
    },
    {
      "cell_type": "markdown",
      "metadata": {
        "id": "04RhCkuWbWeM",
        "colab_type": "text"
      },
      "source": [
        "1. Create a new package named **topic_publisher_pkg**. When creating the package, add as dependencies **roscpp** and **std_msgs**.\n",
        "\n",
        "2. Inside the src folder of the package, create a new file named **simple_topic_publisher**.cpp. Inside this file, copy the contents of **simple_topic_publisher**.cpp\n",
        "\n",
        "3. Create a launch file for launching this code.\n",
        "\n",
        "4. Do the necessary modifications to your **CMakeLists**.txt file, and compile the package.\n",
        "\n",
        "5. Execute the launch file to run your executable"
      ]
    },
    {
      "cell_type": "markdown",
      "metadata": {
        "id": "4lQqetkMcmG9",
        "colab_type": "text"
      },
      "source": [
        "1. "
      ]
    },
    {
      "cell_type": "code",
      "metadata": {
        "id": "3dTeMQqKboNS",
        "colab_type": "code",
        "colab": {}
      },
      "source": [
        "catkin_create_pkg topic_publisher_pkg roscpp std_msgs"
      ],
      "execution_count": null,
      "outputs": []
    },
    {
      "cell_type": "markdown",
      "metadata": {
        "id": "RnAnmRqdbyhR",
        "colab_type": "text"
      },
      "source": [
        "**C++ Program {2.1}: simple_topic_publisher.cpp**\n",
        "\n"
      ]
    },
    {
      "cell_type": "code",
      "metadata": {
        "id": "mraxqP16b0oL",
        "colab_type": "code",
        "colab": {}
      },
      "source": [
        "#include <ros/ros.h>\n",
        "#include <std_msgs/Int32.h>             // data type \n",
        "\n",
        "int main(int argc, char** argv) {                //  main \n",
        "    \n",
        "    ros::init(argc, argv, \"topic_publisher\");           //  node initiate \n",
        "    ros::NodeHandle nh;                                   //  node \n",
        "    \n",
        "    ros::Publisher pub = nh.advertise<std_msgs::Int32>(\"counter\", 1000);      /1  publisher \n",
        "    ros::Rate loop_rate(2);                                                  //2  rate \n",
        "    \n",
        "    std_msgs::Int32 count;            // 3 create variable \n",
        "    count.data = 0;                    //4 initiate variable \n",
        "    \n",
        "    while (ros::ok())                              \n",
        "    {\n",
        "        pub.publish(count);                  //5  msg assign to variable\n",
        "        ros::spinOnce();                       //  call back \n",
        "        loop_rate.sleep();                   //6.    time to maintain the Rate fixed above  \n",
        "        ++count.data;                       //7 increment \n",
        "    }\n",
        "    \n",
        "    return 0;                                       // end \n",
        "}"
      ],
      "execution_count": null,
      "outputs": []
    },
    {
      "cell_type": "markdown",
      "metadata": {
        "id": "otxgjd6gcjLw",
        "colab_type": "text"
      },
      "source": [
        "2. Modifying the CMakeLists.txt file\n"
      ]
    },
    {
      "cell_type": "code",
      "metadata": {
        "id": "cRAigUwmbwQG",
        "colab_type": "code",
        "colab": {}
      },
      "source": [
        "\n",
        "add_executable(simple_topic_publisher src/simple_topic_publisher.cpp)\n",
        "\n",
        "add_dependencies(simple_topic_publisher \n",
        "                 ${simple_topic_publisher_EXPORTED_TARGETS} ${catkin_EXPORTED_TARGETS})\n",
        "\n",
        "target_link_libraries(simple_topic_publisher\n",
        "   ${catkin_LIBRARIES}\n",
        " )"
      ],
      "execution_count": null,
      "outputs": []
    },
    {
      "cell_type": "markdown",
      "metadata": {
        "id": "eRnLPfsgg1VA",
        "colab_type": "text"
      },
      "source": [
        "3. launch file "
      ]
    },
    {
      "cell_type": "code",
      "metadata": {
        "id": "0rw2MhmagzqB",
        "colab_type": "code",
        "colab": {}
      },
      "source": [
        "<launch>\n",
        "    <!-- My Package launch file -->\n",
        "    <node pkg=\"topic_publisher_pkg\" type=\"simple_topic_publisher\" name=\"topic_publisher\"  output=\"screen\">\n",
        "    </node>\n",
        "</launch>"
      ],
      "execution_count": null,
      "outputs": []
    },
    {
      "cell_type": "code",
      "metadata": {
        "id": "37iT9Xkdc72a",
        "colab_type": "code",
        "colab": {}
      },
      "source": [
        "rostopic list | grep  '/counter'"
      ],
      "execution_count": null,
      "outputs": []
    },
    {
      "cell_type": "code",
      "metadata": {
        "id": "Qw22k72XcwHH",
        "colab_type": "code",
        "colab": {}
      },
      "source": [
        "rostopic info /counter"
      ],
      "execution_count": null,
      "outputs": []
    },
    {
      "cell_type": "code",
      "metadata": {
        "id": "Bx0TClTbc1Qi",
        "colab_type": "code",
        "colab": {}
      },
      "source": [
        "user ~ $ rostopic info /counter\n",
        "Type: std_msgs/Int32\n",
        "\n",
        "Publishers:\n",
        " * /topic_publisher (http://ip-172-31-16-133:47971/)\n",
        "\n",
        "Subscribers: None"
      ],
      "execution_count": null,
      "outputs": []
    },
    {
      "cell_type": "code",
      "metadata": {
        "id": "WUfJyN7sc_a3",
        "colab_type": "code",
        "colab": {}
      },
      "source": [
        "rostopic echo /counter"
      ],
      "execution_count": null,
      "outputs": []
    },
    {
      "cell_type": "code",
      "metadata": {
        "id": "-eXM2G23dBvT",
        "colab_type": "code",
        "colab": {}
      },
      "source": [
        "rostopic echo /counter\n",
        "data:\n",
        "985\n",
        "---\n",
        "data:\n",
        "986\n",
        "---\n",
        "data:\n",
        "987\n",
        "---\n",
        "data:\n",
        "988\n",
        "---"
      ],
      "execution_count": null,
      "outputs": []
    },
    {
      "cell_type": "code",
      "metadata": {
        "id": "_3JLoHaEefms",
        "colab_type": "code",
        "colab": {}
      },
      "source": [
        "#include <ros/ros.h>\n",
        "#include <std_msgs/Int32.h>\n",
        "\n",
        "// Import all the necessary ROS libraries and import the Int32 message from the std_msgs package\n",
        "\n",
        "int main(int argc, char** argv) {\n",
        "\n",
        "    ros::init(argc, argv, \"topic_publisher\");      // Initiate a Node named  \n",
        "    ros::NodeHandle nh;                             // node \n",
        "    \n",
        "    ros::Publisher pub = nh.advertise<std_msgs::Int32>(\"counter\", 1000);        // 1 Create a Publisher object, that will                        \n",
        "                                                                                //  publish on the /counter topic messages\n",
        "                                                                                // of type Int32\n",
        "                                 \n",
        "    ros::Rate loop_rate(2);                                       // Set a publish rate of 2 Hz\n",
        "    \n",
        "    std_msgs::Int32 count;                    // 2.  Create a variable of type Int32\n",
        "    count.data = 0;                           //3.  Initialize 'count' variable\n",
        "    \n",
        "    while (ros::ok())          //  Endless loop until Ctrl + C\n",
        "    {\n",
        "        pub.publish(count);      //4   Publish the message within the 'count' variable    \n",
        "        ros::spinOnce();            // 1 callback \n",
        "        loop_rate.sleep();       // 2  Make sure the publish rate maintains at 2 Hz  \n",
        "        ++count.data;            //3  Increment 'count' variable\n",
        "    }\n",
        "    \n",
        "    return 0;\n",
        "}"
      ],
      "execution_count": null,
      "outputs": []
    },
    {
      "cell_type": "code",
      "metadata": {
        "id": "gctPDPEdhb9h",
        "colab_type": "code",
        "colab": {}
      },
      "source": [
        "rostopic echo <topic_name>"
      ],
      "execution_count": null,
      "outputs": []
    },
    {
      "cell_type": "code",
      "metadata": {
        "id": "OnKLyM3ChfAe",
        "colab_type": "code",
        "colab": {}
      },
      "source": [
        "rostopic echo <topic_name> -n1"
      ],
      "execution_count": null,
      "outputs": []
    },
    {
      "cell_type": "code",
      "metadata": {
        "id": "BdaKPqqyhk-6",
        "colab_type": "code",
        "colab": {}
      },
      "source": [
        "rosmsg show <message>"
      ],
      "execution_count": null,
      "outputs": []
    }
  ]
}